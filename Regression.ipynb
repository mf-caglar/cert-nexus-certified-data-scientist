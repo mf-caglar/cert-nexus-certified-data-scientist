{
 "cells": [
  {
   "cell_type": "markdown",
   "metadata": {},
   "source": [
    "# Import software libraries"
   ]
  },
  {
   "cell_type": "code",
   "execution_count": 2,
   "metadata": {},
   "outputs": [
    {
     "name": "stdout",
     "output_type": "stream",
     "text": [
      "Libraries used in this project:\n",
      "- Python 3.7.6 | packaged by conda-forge | (default, Mar 23 2020, 23:03:20) \n",
      "[GCC 7.3.0]\n",
      "- NumPy 1.19.2\n",
      "- pandas 1.1.3\n",
      "- Matplotlib 3.3.2\n",
      "- Seaborn 0.11.0\n",
      "- scikit-learn 0.23.2\n",
      "- XGBoost 1.3.3\n"
     ]
    }
   ],
   "source": [
    "# Import required libraries.\n",
    "import sys                                                  # Read system parameters.\n",
    "import numpy as np                                          # Work with multi-dimensional arrays.\n",
    "import pandas as pd                                         # Manipulate and analyze data.\n",
    "import matplotlib                                           # Create and format charts.\n",
    "import matplotlib.pyplot as plt  \n",
    "import seaborn as sns                                       # Make charting easier.\n",
    "import sklearn                                              # Train and evaluate machine learning models.\n",
    "from sklearn.model_selection import train_test_split, \\\n",
    "                                    learning_curve, \\\n",
    "                                    cross_val_score\n",
    "from sklearn.preprocessing import StandardScaler\n",
    "from sklearn.linear_model import LinearRegression\n",
    "from sklearn.ensemble import RandomForestRegressor\n",
    "from sklearn.metrics import r2_score, \\\n",
    "                            explained_variance_score, \\\n",
    "                            mean_absolute_error, \\\n",
    "                            mean_squared_error\n",
    "from sklearn.dummy import DummyRegressor\n",
    "import xgboost                                              # Build gradient boosting models.\n",
    "from xgboost import XGBRegressor\n",
    "import pickle                                               # Save Python objects as binary files.\n",
    "from collections import Counter\n",
    "import warnings                                             # Suppress warnings.\n",
    "warnings.filterwarnings('ignore')\n",
    "\n",
    "# Ensure results are reproducible.\n",
    "np.random.seed(1)\n",
    "\n",
    "# Summarize software libraries used.\n",
    "print('Libraries used in this project:')\n",
    "print('- Python {}'.format(sys.version))\n",
    "print('- NumPy {}'.format(np.__version__))\n",
    "print('- pandas {}'.format(pd.__version__))\n",
    "print('- Matplotlib {}'.format(matplotlib.__version__))\n",
    "print('- Seaborn {}'.format(sns.__version__))\n",
    "print('- scikit-learn {}'.format(sklearn.__version__))\n",
    "print('- XGBoost {}'.format(xgboost.__version__))"
   ]
  },
  {
   "cell_type": "markdown",
   "metadata": {},
   "source": [
    "# Read and examine the data"
   ]
  },
  {
   "cell_type": "code",
   "execution_count": 3,
   "metadata": {},
   "outputs": [
    {
     "data": {
      "text/html": [
       "<div>\n",
       "<style scoped>\n",
       "    .dataframe tbody tr th:only-of-type {\n",
       "        vertical-align: middle;\n",
       "    }\n",
       "\n",
       "    .dataframe tbody tr th {\n",
       "        vertical-align: top;\n",
       "    }\n",
       "\n",
       "    .dataframe thead th {\n",
       "        text-align: right;\n",
       "    }\n",
       "</style>\n",
       "<table border=\"1\" class=\"dataframe\">\n",
       "  <thead>\n",
       "    <tr style=\"text-align: right;\">\n",
       "      <th></th>\n",
       "      <th>frequency</th>\n",
       "      <th>recency</th>\n",
       "      <th>tenure</th>\n",
       "      <th>monetary_value</th>\n",
       "      <th>number_unique_items</th>\n",
       "      <th>churned</th>\n",
       "    </tr>\n",
       "  </thead>\n",
       "  <tbody>\n",
       "    <tr>\n",
       "      <th>u12747</th>\n",
       "      <td>6.0</td>\n",
       "      <td>367.0</td>\n",
       "      <td>369.0</td>\n",
       "      <td>39.19</td>\n",
       "      <td>3</td>\n",
       "      <td>True</td>\n",
       "    </tr>\n",
       "    <tr>\n",
       "      <th>u12748</th>\n",
       "      <td>41.0</td>\n",
       "      <td>365.0</td>\n",
       "      <td>369.0</td>\n",
       "      <td>12.01</td>\n",
       "      <td>9</td>\n",
       "      <td>False</td>\n",
       "    </tr>\n",
       "    <tr>\n",
       "      <th>u12749</th>\n",
       "      <td>2.0</td>\n",
       "      <td>127.0</td>\n",
       "      <td>130.0</td>\n",
       "      <td>22.28</td>\n",
       "      <td>2</td>\n",
       "      <td>True</td>\n",
       "    </tr>\n",
       "    <tr>\n",
       "      <th>u1282</th>\n",
       "      <td>0.0</td>\n",
       "      <td>0.0</td>\n",
       "      <td>326.0</td>\n",
       "      <td>0.00</td>\n",
       "      <td>1</td>\n",
       "      <td>False</td>\n",
       "    </tr>\n",
       "    <tr>\n",
       "      <th>u12822</th>\n",
       "      <td>0.0</td>\n",
       "      <td>0.0</td>\n",
       "      <td>87.0</td>\n",
       "      <td>0.00</td>\n",
       "      <td>1</td>\n",
       "      <td>True</td>\n",
       "    </tr>\n",
       "  </tbody>\n",
       "</table>\n",
       "</div>"
      ],
      "text/plain": [
       "        frequency  recency  tenure  monetary_value  number_unique_items  \\\n",
       "u12747        6.0    367.0   369.0           39.19                    3   \n",
       "u12748       41.0    365.0   369.0           12.01                    9   \n",
       "u12749        2.0    127.0   130.0           22.28                    2   \n",
       "u1282         0.0      0.0   326.0            0.00                    1   \n",
       "u12822        0.0      0.0    87.0            0.00                    1   \n",
       "\n",
       "        churned  \n",
       "u12747     True  \n",
       "u12748    False  \n",
       "u12749     True  \n",
       "u1282     False  \n",
       "u12822     True  "
      ]
     },
     "execution_count": 3,
     "metadata": {},
     "output_type": "execute_result"
    }
   ],
   "source": [
    "# Read the data.\n",
    "customer_data = pd.read_pickle('data/customer_data.pickle')\n",
    "\n",
    "\n",
    "# Preview the first five rows of the data.\n",
    "\n",
    "customer_data.head()"
   ]
  },
  {
   "cell_type": "code",
   "execution_count": 4,
   "metadata": {},
   "outputs": [
    {
     "name": "stdout",
     "output_type": "stream",
     "text": [
      "<class 'pandas.core.frame.DataFrame'>\n",
      "Index: 2130 entries, u12747 to u18283\n",
      "Data columns (total 6 columns):\n",
      " #   Column               Non-Null Count  Dtype  \n",
      "---  ------               --------------  -----  \n",
      " 0   frequency            2130 non-null   float64\n",
      " 1   recency              2130 non-null   float64\n",
      " 2   tenure               2130 non-null   float64\n",
      " 3   monetary_value       2130 non-null   float64\n",
      " 4   number_unique_items  2130 non-null   int64  \n",
      " 5   churned              2130 non-null   bool   \n",
      "dtypes: bool(1), float64(4), int64(1)\n",
      "memory usage: 101.9+ KB\n"
     ]
    }
   ],
   "source": [
    "# Check the structure of the data.\n",
    "\n",
    "customer_data.info()"
   ]
  },
  {
   "cell_type": "markdown",
   "metadata": {},
   "source": [
    "# Prepare the data"
   ]
  },
  {
   "cell_type": "code",
   "execution_count": 8,
   "metadata": {},
   "outputs": [
    {
     "data": {
      "text/plain": [
       "count    2130.000000\n",
       "mean       12.423202\n",
       "std        16.514363\n",
       "min         0.000000\n",
       "25%         0.000000\n",
       "50%         4.250000\n",
       "75%        20.800000\n",
       "max       234.300000\n",
       "Name: monetary_value, dtype: float64"
      ]
     },
     "execution_count": 8,
     "metadata": {},
     "output_type": "execute_result"
    }
   ],
   "source": [
    "# Define the target variable and get the count of each value in the variable.\n",
    "customer_data.monetary_value.describe()\n",
    "\n",
    "\n"
   ]
  },
  {
   "cell_type": "code",
   "execution_count": 11,
   "metadata": {},
   "outputs": [
    {
     "data": {
      "text/plain": [
       "<AxesSubplot:>"
      ]
     },
     "execution_count": 11,
     "metadata": {},
     "output_type": "execute_result"
    },
    {
     "data": {
      "image/png": "[encoded data removed]",
      "text/plain": [
       "<Figure size 432x288 with 1 Axes>"
      ]
     },
     "metadata": {
      "needs_background": "light"
     },
     "output_type": "display_data"
    }
   ],
   "source": [
    "# Plot a histogram of the target variable distribution.\n",
    "customer_data.monetary_value.hist()\n",
    "\n"
   ]
  },
  {
   "cell_type": "code",
   "execution_count": 12,
   "metadata": {},
   "outputs": [],
   "source": [
    "# Split the data into target and features.\n",
    "target = customer_data.monetary_value\n",
    "features = customer_data.drop(['monetary_value'],axis=1)"
   ]
  },
  {
   "cell_type": "code",
   "execution_count": 14,
   "metadata": {},
   "outputs": [
    {
     "data": {
      "text/plain": [
       "((1491, 5), (639, 5), (1491,), (639,))"
      ]
     },
     "execution_count": 14,
     "metadata": {},
     "output_type": "execute_result"
    }
   ],
   "source": [
    "# Split the dataset into separate training and testing sets.\n",
    "\n",
    "X_train,X_test,y_train,y_test = train_test_split(features,target,test_size=0.3)\n",
    "\n",
    "\n",
    "\n",
    "\n",
    "# Get the shape of both the training dataset and the test dataset.\n",
    "\n",
    "X_train.shape,X_test.shape,y_train.shape,y_test.shape\n",
    "\n",
    "\n",
    "\n",
    "\n",
    "\n"
   ]
  },
  {
   "cell_type": "code",
   "execution_count": 15,
   "metadata": {},
   "outputs": [
    {
     "data": {
      "text/plain": [
       "count    639.000000\n",
       "mean      12.277527\n",
       "std       15.245781\n",
       "min        0.000000\n",
       "25%        0.000000\n",
       "50%        4.980000\n",
       "75%       20.925000\n",
       "max       82.900000\n",
       "Name: monetary_value, dtype: float64"
      ]
     },
     "execution_count": 15,
     "metadata": {},
     "output_type": "execute_result"
    }
   ],
   "source": [
    "# Get summary statistics for the target variable (test data).\n",
    "# Count, mean, standard deviation, minimum, maximum, etc.\n",
    "\n",
    "y_test.describe()"
   ]
  },
  {
   "cell_type": "markdown",
   "metadata": {},
   "source": [
    "# Train a linear regression model"
   ]
  },
  {
   "cell_type": "code",
   "execution_count": 17,
   "metadata": {},
   "outputs": [],
   "source": [
    "# Standardize the training data.\n",
    "scaler = StandardScaler()\n",
    "X_train_scaled = scaler.fit_transform(X_train)\n",
    "\n",
    "\n",
    "# Standardize the test data as well.\n",
    "X_test_scaled = scaler.fit_transform(X_test)"
   ]
  },
  {
   "cell_type": "code",
   "execution_count": 18,
   "metadata": {},
   "outputs": [
    {
     "data": {
      "text/plain": [
       "LinearRegression()"
      ]
     },
     "execution_count": 18,
     "metadata": {},
     "output_type": "execute_result"
    }
   ],
   "source": [
    "# Create a LinearRegression() model and fit it on the scaled training data.\n",
    "linreg = LinearRegression()\n",
    "linreg.fit(X_train_scaled,y_train)\n"
   ]
  },
  {
   "cell_type": "code",
   "execution_count": 19,
   "metadata": {},
   "outputs": [
    {
     "data": {
      "text/plain": [
       "array([18.07830101, 10.19627528,  1.94373021,  2.65967734,  1.64438665])"
      ]
     },
     "execution_count": 19,
     "metadata": {},
     "output_type": "execute_result"
    }
   ],
   "source": [
    "# Make predictions on the test data.\n",
    "linreg_y_pred = linreg.predict(X_test_scaled)\n",
    "\n",
    "\n",
    "# Get the first 5 predicted values.\n",
    "linreg_y_pred[:5]\n"
   ]
  },
  {
   "cell_type": "markdown",
   "metadata": {},
   "source": [
    "# Perform a quick evaluation of the linear regression model"
   ]
  },
  {
   "cell_type": "code",
   "execution_count": 20,
   "metadata": {},
   "outputs": [
    {
     "data": {
      "text/plain": [
       "0.4136313484622708"
      ]
     },
     "execution_count": 20,
     "metadata": {},
     "output_type": "execute_result"
    }
   ],
   "source": [
    "# Obtain the model's R2 score.\n",
    "r2_score(y_test,linreg_y_pred)\n"
   ]
  },
  {
   "cell_type": "markdown",
   "metadata": {},
   "source": [
    "# Train a random forest model"
   ]
  },
  {
   "cell_type": "code",
   "execution_count": 21,
   "metadata": {},
   "outputs": [
    {
     "data": {
      "text/plain": [
       "RandomForestRegressor()"
      ]
     },
     "execution_count": 21,
     "metadata": {},
     "output_type": "execute_result"
    }
   ],
   "source": [
    "# Create a RandomForestRegressor() model and fit it on the scaled training data.\n",
    "reg_rf = RandomForestRegressor()\n",
    "reg_rf.fit(X_train_scaled,y_train)\n"
   ]
  },
  {
   "cell_type": "code",
   "execution_count": 22,
   "metadata": {},
   "outputs": [
    {
     "data": {
      "text/plain": [
       "array([24.5778, 24.5778, 28.2169, 29.1518, 28.2169])"
      ]
     },
     "execution_count": 22,
     "metadata": {},
     "output_type": "execute_result"
    }
   ],
   "source": [
    "# Make predictions on the test data.\n",
    "reg_rf_y_pred = reg_rf.predict(X_test)\n",
    "\n",
    "\n",
    "# Get the first 5 predicted values.\n",
    "reg_rf_y_pred[:5]\n"
   ]
  },
  {
   "cell_type": "markdown",
   "metadata": {},
   "source": [
    "# Perform a quick evaluation of the random forest model"
   ]
  },
  {
   "cell_type": "code",
   "execution_count": 23,
   "metadata": {},
   "outputs": [
    {
     "data": {
      "text/plain": [
       "-1.2307989051155253"
      ]
     },
     "execution_count": 23,
     "metadata": {},
     "output_type": "execute_result"
    }
   ],
   "source": [
    "# Obtain the model's R2 score.\n",
    "r2_score(y_test,reg_rf_y_pred)\n"
   ]
  },
  {
   "cell_type": "markdown",
   "metadata": {},
   "source": [
    "# Compare evaluation metrics for each model"
   ]
  },
  {
   "cell_type": "code",
   "execution_count": 24,
   "metadata": {},
   "outputs": [],
   "source": [
    "# List will hold model objects.\n",
    "\n",
    "models = []\n",
    "\n",
    "# Dummy Classifier used as a baseline algorithm.\n",
    "\n",
    "models.append(('Dummy Regressor', DummyRegressor()))\n",
    "\n",
    "# Linear Regression model.\n",
    "\n",
    "models.append(('Linear Regression', LinearRegression()))\n",
    "\n",
    "# Random Forest model.\n",
    "\n",
    "models.append(('Random Forest', RandomForestRegressor()))\n",
    "\n",
    "# XGBoost model.\n",
    "\n",
    "models.append(('XGBoost', XGBRegressor(objective = 'reg:squarederror', n_jobs = 1)))"
   ]
  },
  {
   "cell_type": "code",
   "execution_count": 26,
   "metadata": {},
   "outputs": [],
   "source": [
    "# List will hold dictionaries of model scores.\n",
    "\n",
    "scoring_df = []\n",
    "\n",
    "# Train each model in the list and output multiple scores for each model.\n",
    "\n",
    "for name, model in models:\n",
    "    if name in ['Linear Regression']:\n",
    "        X_train_1 = X_train_scaled\n",
    "    else:\n",
    "        X_train_1 = X_train\n",
    "    \n",
    "    model.fit(X_train_1, y_train)\n",
    "    y_pred = model.predict(X_test)\n",
    "\n",
    "    # Calcualte the evaluation metrics for the model.\n",
    "    \n",
    "    r2 = r2_score(y_test, y_pred)\n",
    "    explained_var = explained_variance_score(y_test, y_pred)\n",
    "    mae = mean_absolute_error(y_test, y_pred)\n",
    "    mse = mean_squared_error(y_test, y_pred)\n",
    "\n",
    "    scoring_dict = {'Model': name,\n",
    "                    'R2': round(r2, 4),\n",
    "                    'Mean Absolute Error': round(mae, 4), \n",
    "                    'Mean Squared Error': round(mse, 4),\n",
    "                    }\n",
    "    \n",
    "    scoring_df.append(scoring_dict)"
   ]
  },
  {
   "cell_type": "code",
   "execution_count": 27,
   "metadata": {},
   "outputs": [
    {
     "data": {
      "text/html": [
       "<div>\n",
       "<style scoped>\n",
       "    .dataframe tbody tr th:only-of-type {\n",
       "        vertical-align: middle;\n",
       "    }\n",
       "\n",
       "    .dataframe tbody tr th {\n",
       "        vertical-align: top;\n",
       "    }\n",
       "\n",
       "    .dataframe thead th {\n",
       "        text-align: right;\n",
       "    }\n",
       "</style>\n",
       "<table border=\"1\" class=\"dataframe\">\n",
       "  <thead>\n",
       "    <tr style=\"text-align: right;\">\n",
       "      <th></th>\n",
       "      <th>Model</th>\n",
       "      <th>R2</th>\n",
       "      <th>Mean Absolute Error</th>\n",
       "      <th>Mean Squared Error</th>\n",
       "    </tr>\n",
       "  </thead>\n",
       "  <tbody>\n",
       "    <tr>\n",
       "      <th>2</th>\n",
       "      <td>Random Forest</td>\n",
       "      <td>0.5572</td>\n",
       "      <td>5.8184</td>\n",
       "      <td>1.027592e+02</td>\n",
       "    </tr>\n",
       "    <tr>\n",
       "      <th>3</th>\n",
       "      <td>XGBoost</td>\n",
       "      <td>0.4971</td>\n",
       "      <td>6.2267</td>\n",
       "      <td>1.167166e+02</td>\n",
       "    </tr>\n",
       "    <tr>\n",
       "      <th>0</th>\n",
       "      <td>Dummy Regressor</td>\n",
       "      <td>-0.0002</td>\n",
       "      <td>12.6557</td>\n",
       "      <td>2.321134e+02</td>\n",
       "    </tr>\n",
       "    <tr>\n",
       "      <th>1</th>\n",
       "      <td>Linear Regression</td>\n",
       "      <td>-7570.4619</td>\n",
       "      <td>932.5722</td>\n",
       "      <td>1.757110e+06</td>\n",
       "    </tr>\n",
       "  </tbody>\n",
       "</table>\n",
       "</div>"
      ],
      "text/plain": [
       "               Model         R2  Mean Absolute Error  Mean Squared Error\n",
       "2      Random Forest     0.5572               5.8184        1.027592e+02\n",
       "3            XGBoost     0.4971               6.2267        1.167166e+02\n",
       "0    Dummy Regressor    -0.0002              12.6557        2.321134e+02\n",
       "1  Linear Regression -7570.4619             932.5722        1.757110e+06"
      ]
     },
     "execution_count": 27,
     "metadata": {},
     "output_type": "execute_result"
    }
   ],
   "source": [
    "# Create a DataFrame from scoring_df.\n",
    "scoring_df = pd.DataFrame(scoring_df)\n",
    "\n",
    "\n",
    "# Sort the DataFrame by MSE (ascending), then print it.\n",
    "scoring_df.sort_values('Mean Squared Error')\n"
   ]
  },
  {
   "cell_type": "markdown",
   "metadata": {},
   "source": [
    "# Begin evaluating the best model"
   ]
  },
  {
   "cell_type": "code",
   "execution_count": 28,
   "metadata": {},
   "outputs": [
    {
     "data": {
      "text/plain": [
       "RandomForestRegressor()"
      ]
     },
     "execution_count": 28,
     "metadata": {},
     "output_type": "execute_result"
    }
   ],
   "source": [
    "# Retrain the model with the lowest MSE.\n",
    "rf = RandomForestRegressor()\n",
    "rf.fit(X_train,y_train)\n"
   ]
  },
  {
   "cell_type": "code",
   "execution_count": 29,
   "metadata": {},
   "outputs": [
    {
     "data": {
      "text/plain": [
       "array([17.395 , 21.4723,  0.    ,  0.    ,  0.    ])"
      ]
     },
     "execution_count": 29,
     "metadata": {},
     "output_type": "execute_result"
    }
   ],
   "source": [
    "# Make predictions on the test data.\n",
    "rf_y_pred = rf.predict(X_test)\n",
    "\n",
    "\n",
    "# Get the first 5 predictions.\n",
    "rf_y_pred[:5]\n"
   ]
  },
  {
   "cell_type": "code",
   "execution_count": 31,
   "metadata": {},
   "outputs": [
    {
     "data": {
      "text/plain": [
       "<matplotlib.collections.PathCollection at 0x75cfbbb5abd0>"
      ]
     },
     "execution_count": 31,
     "metadata": {},
     "output_type": "execute_result"
    },
    {
     "data": {
      "image/png": "[encoded data removed]",
      "text/plain": [
       "<Figure size 864x576 with 1 Axes>"
      ]
     },
     "metadata": {
      "needs_background": "light"
     },
     "output_type": "display_data"
    }
   ],
   "source": [
    "# Generate a residual scatter plot.\n",
    "resid_df = pd.DataFrame()\n",
    "resid_df['monetary_value'] = y_test\n",
    "resid_df['monetary_pred'] = rf_y_pred\n",
    "resid_df['residuals'] = resid_df['monetary_value'] - resid_df['monetary_pred']\n",
    "resid_df = resid_df.sort_values('monetary_value')\n",
    "resid_df['record_num'] = np.arange(len(resid_df))\n",
    "plt.figure(figsize=(12,8))\n",
    "plt.plot(resid_df['record_num'],resid_df['monetary_value'],color='red',linewidth=5)\n",
    "plt.scatter(resid_df['record_num'],resid_df['monetary_pred'])\n"
   ]
  },
  {
   "cell_type": "markdown",
   "metadata": {},
   "source": [
    "# Generate a feature importance plot for the best model"
   ]
  },
  {
   "cell_type": "code",
   "execution_count": 34,
   "metadata": {},
   "outputs": [],
   "source": [
    "# This function generates a feature importance plot on a bar chart.\n",
    "\n",
    "def feature_importance_plot(model, X_train, n):\n",
    "    \"\"\"Plots feature importance. This only works for random forest and XGBoost models.\"\"\"\n",
    "    \n",
    "    plt.figure(figsize=(8, 5))  # Set figure size.\n",
    "    feat_importances = pd.Series(model.feature_importances_,\n",
    "                                 index = X_train.columns)\n",
    "    feat_importances.nlargest(n).plot(kind = 'barh')\n",
    "    plt.title(f'Top {n} Features')\n",
    "    plt.show()"
   ]
  },
  {
   "cell_type": "code",
   "execution_count": 37,
   "metadata": {},
   "outputs": [
    {
     "data": {
      "image/png": "[encoded data removed]",
      "text/plain": [
       "<Figure size 576x360 with 1 Axes>"
      ]
     },
     "metadata": {
      "needs_background": "light"
     },
     "output_type": "display_data"
    }
   ],
   "source": [
    "# Plot the feature importances.\n",
    "feature_importance_plot(rf,X_train,5)\n"
   ]
  },
  {
   "cell_type": "markdown",
   "metadata": {},
   "source": [
    "# Plot a learning curve for the best model"
   ]
  },
  {
   "cell_type": "code",
   "execution_count": 38,
   "metadata": {},
   "outputs": [],
   "source": [
    "# This function generates and plots a learning curve.\n",
    "\n",
    "def plot_learning_curves(model, X_train, y_train):\n",
    "    \"\"\"Plots learning curves for model validation.\"\"\"\n",
    "    \n",
    "    plt.figure(figsize=(5, 5))  # Set figure size.\n",
    "    train_sizes, train_scores, test_scores = learning_curve(model,\n",
    "                                                            X_train,\n",
    "                                                            y_train,\n",
    "                                                            cv = 5,  # Number of folds in cross-validation.\n",
    "                                                            scoring = 'neg_mean_squared_error',  # Evaluation metric.\n",
    "                                                            n_jobs = 1,\n",
    "                                                            shuffle = True,\n",
    "                                                            train_sizes = np.linspace(0.01, 1.0, 5))  # 5 different sizes of the training set.\n",
    "\n",
    "    # Create means and standard deviations of training set scores.\n",
    "    \n",
    "    train_mean = np.mean(train_scores, axis = 1)\n",
    "    train_std = np.std(train_scores, axis = 1)\n",
    "\n",
    "    # Create means and standard deviations of test set scores.\n",
    "    \n",
    "    test_mean = np.mean(test_scores, axis = 1)\n",
    "    test_std = np.std(test_scores, axis = 1)\n",
    "\n",
    "    # Draw lines.\n",
    "    \n",
    "    plt.plot(train_sizes, train_mean, '--', color = '#111111', label = 'Training score')\n",
    "    plt.plot(train_sizes, test_mean, color = '#111111', label = 'Cross-validation score')\n",
    "\n",
    "    # Create plot.\n",
    "    \n",
    "    plt.title('Learning Curves')\n",
    "    plt.xlabel('Training Set Size'), plt.ylabel('Negative MSE'), plt.legend(loc = 'best')\n",
    "    plt.tight_layout()\n",
    "    \n",
    "    plt.show()"
   ]
  },
  {
   "cell_type": "code",
   "execution_count": 39,
   "metadata": {},
   "outputs": [
    {
     "data": {
      "image/png": "[encoded data removed]",
      "text/plain": [
       "<Figure size 360x360 with 1 Axes>"
      ]
     },
     "metadata": {
      "needs_background": "light"
     },
     "output_type": "display_data"
    }
   ],
   "source": [
    "# Call the function to plot learning curves for the best model.\n",
    "# Keep in mind that this is using negative MSE, so the lower (better) scores are at the top of the y-axis.\n",
    "\n",
    "plot_learning_curves(rf,X_train,y_train)"
   ]
  },
  {
   "cell_type": "markdown",
   "metadata": {},
   "source": [
    "# Save the best model"
   ]
  },
  {
   "cell_type": "code",
   "execution_count": 40,
   "metadata": {},
   "outputs": [],
   "source": [
    "# Save the best model as a pickle file named best_regression_model.pickle.\n",
    "\n",
    "pickle.dump(rf,open('best_regression_model.pickle','wb'))"
   ]
  },
  {
   "cell_type": "code",
   "execution_count": null,
   "metadata": {},
   "outputs": [],
   "source": []
  }
 ],
 "metadata": {
  "kernelspec": {
   "display_name": "Python 3 (ipykernel)",
   "language": "python",
   "name": "python3"
  },
  "language_info": {
   "codemirror_mode": {
    "name": "ipython",
    "version": 3
   },
   "file_extension": ".py",
   "mimetype": "text/x-python",
   "name": "python",
   "nbconvert_exporter": "python",
   "pygments_lexer": "ipython3",
   "version": "3.11.7"
  }
 },
 "nbformat": 4,
 "nbformat_minor": 4
}
