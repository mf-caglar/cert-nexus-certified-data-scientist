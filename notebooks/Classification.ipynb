{
 "cells": [
  {
   "cell_type": "markdown",
   "metadata": {},
   "source": [
    "# Import software libraries"
   ]
  },
  {
   "cell_type": "code",
   "execution_count": 1,
   "metadata": {},
   "outputs": [
    {
     "name": "stdout",
     "output_type": "stream",
     "text": [
      "Libraries used in this project:\n",
      "- Python 3.11.7 | packaged by Anaconda, Inc. | (main, Dec 15 2023, 18:05:47) [MSC v.1916 64 bit (AMD64)]\n",
      "- NumPy 1.26.4\n",
      "- pandas 2.2.1\n",
      "- Matplotlib 3.8.0\n",
      "- Seaborn 0.11.0\n",
      "- scikit-learn 1.2.2\n",
      "- XGBoost 2.0.3\n"
     ]
    }
   ],
   "source": [
    "# Import required libraries.\n",
    "import sys                                                  # Read system parameters.\n",
    "import numpy as np                                          # Work with multi-dimensional arrays.\n",
    "import pandas as pd                                         # Manipulate and analyze data.\n",
    "import matplotlib                                           # Create and format charts.\n",
    "import matplotlib.pyplot as plt  \n",
    "import seaborn as sns                                       # Make charting easier.\n",
    "import sklearn                                              # Train and evaluate machine learning models.\n",
    "from sklearn.utils import resample\n",
    "from sklearn.pipeline import Pipeline\n",
    "from sklearn.decomposition import PCA\n",
    "from sklearn.model_selection import GridSearchCV, StratifiedKFold\n",
    "from sklearn.linear_model import LogisticRegression\n",
    "from xgboost import XGBClassifier\n",
    "from sklearn.tree import DecisionTreeClassifier\n",
    "from sklearn.model_selection import train_test_split, \\\n",
    "                                    learning_curve, \\\n",
    "                                    cross_val_score\n",
    "from sklearn.preprocessing import MinMaxScaler, StandardScaler\n",
    "from sklearn.ensemble import RandomForestClassifier \n",
    "from sklearn.metrics import accuracy_score, \\\n",
    "                            confusion_matrix, \\\n",
    "                            classification_report, \\\n",
    "                            _scorer, \\\n",
    "                            f1_score, \\\n",
    "                            recall_score, \\\n",
    "                            precision_score, \\\n",
    "                            roc_auc_score, \\\n",
    "                            roc_curve\n",
    "from scikitplot.metrics import plot_roc_curve, \\\n",
    "                            plot_precision_recall_curve, \\\n",
    "                            plot_confusion_matrix\n",
    "from sklearn.dummy import DummyClassifier\n",
    "import xgboost                                              # Build gradient boosting models.\n",
    "from xgboost import XGBClassifier\n",
    "import pickle                                               # Save Python objects as binary files.\n",
    "from collections import Counter\n",
    "import warnings                                             # Suppress warnings.\n",
    "warnings.filterwarnings('ignore')\n",
    "\n",
    "# Ensure results are reproducible.\n",
    "np.random.seed(1)\n",
    "\n",
    "# Summarize software libraries used.\n",
    "print('Libraries used in this project:')\n",
    "print('- Python {}'.format(sys.version))\n",
    "print('- NumPy {}'.format(np.__version__))\n",
    "print('- pandas {}'.format(pd.__version__))\n",
    "print('- Matplotlib {}'.format(matplotlib.__version__))\n",
    "print('- Seaborn {}'.format(sns.__version__))\n",
    "print('- scikit-learn {}'.format(sklearn.__version__))\n",
    "print('- XGBoost {}'.format(xgboost.__version__))"
   ]
  },
  {
   "cell_type": "code",
   "execution_count": 2,
   "metadata": {},
   "outputs": [],
   "source": [
    "from mlxtend.plotting import plot_confusion_matrix"
   ]
  },
  {
   "cell_type": "code",
   "execution_count": 3,
   "metadata": {},
   "outputs": [],
   "source": [
    "from imblearn.over_sampling import SMOTE"
   ]
  },
  {
   "cell_type": "code",
   "execution_count": 4,
   "metadata": {},
   "outputs": [],
   "source": [
    "from scipy.stats.mstats import winsorize"
   ]
  },
  {
   "cell_type": "code",
   "execution_count": 5,
   "metadata": {},
   "outputs": [],
   "source": [
    "from sklearn.svm import SVC"
   ]
  },
  {
   "cell_type": "markdown",
   "metadata": {},
   "source": [
    "# Read and examine the data"
   ]
  },
  {
   "cell_type": "code",
   "execution_count": 6,
   "metadata": {},
   "outputs": [],
   "source": [
    "customer_data = pd.read_pickle(\"../data/customer_data_preprocessed.pickle\")"
   ]
  },
  {
   "cell_type": "code",
   "execution_count": 7,
   "metadata": {},
   "outputs": [
    {
     "data": {
      "text/html": [
       "<div>\n",
       "<style scoped>\n",
       "    .dataframe tbody tr th:only-of-type {\n",
       "        vertical-align: middle;\n",
       "    }\n",
       "\n",
       "    .dataframe tbody tr th {\n",
       "        vertical-align: top;\n",
       "    }\n",
       "\n",
       "    .dataframe thead th {\n",
       "        text-align: right;\n",
       "    }\n",
       "</style>\n",
       "<table border=\"1\" class=\"dataframe\">\n",
       "  <thead>\n",
       "    <tr style=\"text-align: right;\">\n",
       "      <th></th>\n",
       "      <th>frequency</th>\n",
       "      <th>recency</th>\n",
       "      <th>monetary_value</th>\n",
       "      <th>num_unique_items</th>\n",
       "      <th>tenure</th>\n",
       "      <th>churned</th>\n",
       "    </tr>\n",
       "    <tr>\n",
       "      <th>CustomerID</th>\n",
       "      <th></th>\n",
       "      <th></th>\n",
       "      <th></th>\n",
       "      <th></th>\n",
       "      <th></th>\n",
       "      <th></th>\n",
       "    </tr>\n",
       "  </thead>\n",
       "  <tbody>\n",
       "    <tr>\n",
       "      <th>u12747</th>\n",
       "      <td>11</td>\n",
       "      <td>3</td>\n",
       "      <td>302.76</td>\n",
       "      <td>3</td>\n",
       "      <td>369.0</td>\n",
       "      <td>1.0</td>\n",
       "    </tr>\n",
       "    <tr>\n",
       "      <th>u12748</th>\n",
       "      <td>95</td>\n",
       "      <td>2</td>\n",
       "      <td>783.19</td>\n",
       "      <td>10</td>\n",
       "      <td>369.0</td>\n",
       "      <td>0.0</td>\n",
       "    </tr>\n",
       "    <tr>\n",
       "      <th>u12749</th>\n",
       "      <td>6</td>\n",
       "      <td>4</td>\n",
       "      <td>251.42</td>\n",
       "      <td>3</td>\n",
       "      <td>130.0</td>\n",
       "      <td>1.0</td>\n",
       "    </tr>\n",
       "    <tr>\n",
       "      <th>u1282</th>\n",
       "      <td>1</td>\n",
       "      <td>327</td>\n",
       "      <td>17.70</td>\n",
       "      <td>1</td>\n",
       "      <td>326.0</td>\n",
       "      <td>0.0</td>\n",
       "    </tr>\n",
       "    <tr>\n",
       "      <th>u12822</th>\n",
       "      <td>1</td>\n",
       "      <td>88</td>\n",
       "      <td>16.50</td>\n",
       "      <td>1</td>\n",
       "      <td>87.0</td>\n",
       "      <td>1.0</td>\n",
       "    </tr>\n",
       "  </tbody>\n",
       "</table>\n",
       "</div>"
      ],
      "text/plain": [
       "            frequency  recency  monetary_value  num_unique_items  tenure  \\\n",
       "CustomerID                                                                 \n",
       "u12747             11        3          302.76                 3   369.0   \n",
       "u12748             95        2          783.19                10   369.0   \n",
       "u12749              6        4          251.42                 3   130.0   \n",
       "u1282               1      327           17.70                 1   326.0   \n",
       "u12822              1       88           16.50                 1    87.0   \n",
       "\n",
       "            churned  \n",
       "CustomerID           \n",
       "u12747          1.0  \n",
       "u12748          0.0  \n",
       "u12749          1.0  \n",
       "u1282           0.0  \n",
       "u12822          1.0  "
      ]
     },
     "execution_count": 7,
     "metadata": {},
     "output_type": "execute_result"
    }
   ],
   "source": [
    "customer_data.head()"
   ]
  },
  {
   "cell_type": "code",
   "execution_count": 8,
   "metadata": {},
   "outputs": [
    {
     "data": {
      "text/html": [
       "<div>\n",
       "<style scoped>\n",
       "    .dataframe tbody tr th:only-of-type {\n",
       "        vertical-align: middle;\n",
       "    }\n",
       "\n",
       "    .dataframe tbody tr th {\n",
       "        vertical-align: top;\n",
       "    }\n",
       "\n",
       "    .dataframe thead th {\n",
       "        text-align: right;\n",
       "    }\n",
       "</style>\n",
       "<table border=\"1\" class=\"dataframe\">\n",
       "  <thead>\n",
       "    <tr style=\"text-align: right;\">\n",
       "      <th></th>\n",
       "      <th>frequency</th>\n",
       "      <th>recency</th>\n",
       "      <th>monetary_value</th>\n",
       "      <th>num_unique_items</th>\n",
       "      <th>tenure</th>\n",
       "      <th>churned</th>\n",
       "    </tr>\n",
       "  </thead>\n",
       "  <tbody>\n",
       "    <tr>\n",
       "      <th>count</th>\n",
       "      <td>2130.000000</td>\n",
       "      <td>2130.000000</td>\n",
       "      <td>2130.000000</td>\n",
       "      <td>2130.000000</td>\n",
       "      <td>2130.000000</td>\n",
       "      <td>2130.000000</td>\n",
       "    </tr>\n",
       "    <tr>\n",
       "      <th>mean</th>\n",
       "      <td>5.465258</td>\n",
       "      <td>107.795305</td>\n",
       "      <td>152.446244</td>\n",
       "      <td>2.532394</td>\n",
       "      <td>214.496244</td>\n",
       "      <td>0.352113</td>\n",
       "    </tr>\n",
       "    <tr>\n",
       "      <th>std</th>\n",
       "      <td>8.530990</td>\n",
       "      <td>100.039421</td>\n",
       "      <td>441.992190</td>\n",
       "      <td>1.645733</td>\n",
       "      <td>112.923328</td>\n",
       "      <td>0.477741</td>\n",
       "    </tr>\n",
       "    <tr>\n",
       "      <th>min</th>\n",
       "      <td>1.000000</td>\n",
       "      <td>1.000000</td>\n",
       "      <td>0.550000</td>\n",
       "      <td>1.000000</td>\n",
       "      <td>1.000000</td>\n",
       "      <td>0.000000</td>\n",
       "    </tr>\n",
       "    <tr>\n",
       "      <th>25%</th>\n",
       "      <td>1.000000</td>\n",
       "      <td>25.250000</td>\n",
       "      <td>18.515000</td>\n",
       "      <td>1.000000</td>\n",
       "      <td>110.000000</td>\n",
       "      <td>0.000000</td>\n",
       "    </tr>\n",
       "    <tr>\n",
       "      <th>50%</th>\n",
       "      <td>3.000000</td>\n",
       "      <td>72.000000</td>\n",
       "      <td>47.860000</td>\n",
       "      <td>2.000000</td>\n",
       "      <td>240.000000</td>\n",
       "      <td>0.000000</td>\n",
       "    </tr>\n",
       "    <tr>\n",
       "      <th>75%</th>\n",
       "      <td>6.000000</td>\n",
       "      <td>171.000000</td>\n",
       "      <td>130.440000</td>\n",
       "      <td>3.000000</td>\n",
       "      <td>311.000000</td>\n",
       "      <td>1.000000</td>\n",
       "    </tr>\n",
       "    <tr>\n",
       "      <th>max</th>\n",
       "      <td>171.000000</td>\n",
       "      <td>374.000000</td>\n",
       "      <td>10281.200000</td>\n",
       "      <td>10.000000</td>\n",
       "      <td>373.000000</td>\n",
       "      <td>1.000000</td>\n",
       "    </tr>\n",
       "  </tbody>\n",
       "</table>\n",
       "</div>"
      ],
      "text/plain": [
       "         frequency      recency  monetary_value  num_unique_items  \\\n",
       "count  2130.000000  2130.000000     2130.000000       2130.000000   \n",
       "mean      5.465258   107.795305      152.446244          2.532394   \n",
       "std       8.530990   100.039421      441.992190          1.645733   \n",
       "min       1.000000     1.000000        0.550000          1.000000   \n",
       "25%       1.000000    25.250000       18.515000          1.000000   \n",
       "50%       3.000000    72.000000       47.860000          2.000000   \n",
       "75%       6.000000   171.000000      130.440000          3.000000   \n",
       "max     171.000000   374.000000    10281.200000         10.000000   \n",
       "\n",
       "            tenure      churned  \n",
       "count  2130.000000  2130.000000  \n",
       "mean    214.496244     0.352113  \n",
       "std     112.923328     0.477741  \n",
       "min       1.000000     0.000000  \n",
       "25%     110.000000     0.000000  \n",
       "50%     240.000000     0.000000  \n",
       "75%     311.000000     1.000000  \n",
       "max     373.000000     1.000000  "
      ]
     },
     "execution_count": 8,
     "metadata": {},
     "output_type": "execute_result"
    }
   ],
   "source": [
    "customer_data.describe()"
   ]
  },
  {
   "cell_type": "code",
   "execution_count": 9,
   "metadata": {},
   "outputs": [
    {
     "name": "stdout",
     "output_type": "stream",
     "text": [
      "<class 'pandas.core.frame.DataFrame'>\n",
      "Index: 2130 entries, u12747 to u18283\n",
      "Data columns (total 6 columns):\n",
      " #   Column            Non-Null Count  Dtype  \n",
      "---  ------            --------------  -----  \n",
      " 0   frequency         2130 non-null   int64  \n",
      " 1   recency           2130 non-null   int64  \n",
      " 2   monetary_value    2130 non-null   float64\n",
      " 3   num_unique_items  2130 non-null   int64  \n",
      " 4   tenure            2130 non-null   float64\n",
      " 5   churned           2130 non-null   float64\n",
      "dtypes: float64(3), int64(3)\n",
      "memory usage: 116.5+ KB\n"
     ]
    }
   ],
   "source": [
    "# Check the structure of the data.\n",
    "customer_data.info()"
   ]
  },
  {
   "cell_type": "code",
   "execution_count": 10,
   "metadata": {},
   "outputs": [],
   "source": [
    "df = customer_data\n",
    "n_bootstraps = 100\n",
    "\n",
    "# Initialize an empty list to store bootstrapped samples\n",
    "bootstrapped_samples = []\n",
    "\n",
    "# Perform bootstrapping to create new samples\n",
    "for _ in range(n_bootstraps):\n",
    "    # Sample with replacement from the original dataset\n",
    "    bootstrap_sample = df.sample(n=len(df), replace=True)\n",
    "    # Append the bootstrapped sample to the list\n",
    "    bootstrapped_samples.append(bootstrap_sample)\n",
    "\n",
    "# Concatenate the bootstrapped samples into a single DataFrame\n",
    "bootstrapped_df = pd.concat(bootstrapped_samples, ignore_index=True)\n",
    "\n",
    "# Reset the index of the bootstrapped DataFrame\n",
    "bootstrapped_df.reset_index(drop=True, inplace=True)\n",
    "\n",
    "# Now 'bootstrapped_df' contains the expanded dataset with bootstrapped samples"
   ]
  },
  {
   "cell_type": "code",
   "execution_count": 11,
   "metadata": {},
   "outputs": [
    {
     "data": {
      "text/html": [
       "<div>\n",
       "<style scoped>\n",
       "    .dataframe tbody tr th:only-of-type {\n",
       "        vertical-align: middle;\n",
       "    }\n",
       "\n",
       "    .dataframe tbody tr th {\n",
       "        vertical-align: top;\n",
       "    }\n",
       "\n",
       "    .dataframe thead th {\n",
       "        text-align: right;\n",
       "    }\n",
       "</style>\n",
       "<table border=\"1\" class=\"dataframe\">\n",
       "  <thead>\n",
       "    <tr style=\"text-align: right;\">\n",
       "      <th></th>\n",
       "      <th>frequency</th>\n",
       "      <th>recency</th>\n",
       "      <th>monetary_value</th>\n",
       "      <th>num_unique_items</th>\n",
       "      <th>tenure</th>\n",
       "      <th>churned</th>\n",
       "    </tr>\n",
       "  </thead>\n",
       "  <tbody>\n",
       "    <tr>\n",
       "      <th>count</th>\n",
       "      <td>213000.000000</td>\n",
       "      <td>213000.000000</td>\n",
       "      <td>213000.000000</td>\n",
       "      <td>213000.000000</td>\n",
       "      <td>213000.000000</td>\n",
       "      <td>213000.000000</td>\n",
       "    </tr>\n",
       "    <tr>\n",
       "      <th>mean</th>\n",
       "      <td>5.504216</td>\n",
       "      <td>107.359995</td>\n",
       "      <td>154.119585</td>\n",
       "      <td>2.533653</td>\n",
       "      <td>214.481944</td>\n",
       "      <td>0.351742</td>\n",
       "    </tr>\n",
       "    <tr>\n",
       "      <th>std</th>\n",
       "      <td>8.603438</td>\n",
       "      <td>99.794488</td>\n",
       "      <td>450.426806</td>\n",
       "      <td>1.649888</td>\n",
       "      <td>112.950909</td>\n",
       "      <td>0.477515</td>\n",
       "    </tr>\n",
       "    <tr>\n",
       "      <th>min</th>\n",
       "      <td>1.000000</td>\n",
       "      <td>1.000000</td>\n",
       "      <td>0.550000</td>\n",
       "      <td>1.000000</td>\n",
       "      <td>1.000000</td>\n",
       "      <td>0.000000</td>\n",
       "    </tr>\n",
       "    <tr>\n",
       "      <th>25%</th>\n",
       "      <td>1.000000</td>\n",
       "      <td>25.000000</td>\n",
       "      <td>18.750000</td>\n",
       "      <td>1.000000</td>\n",
       "      <td>110.000000</td>\n",
       "      <td>0.000000</td>\n",
       "    </tr>\n",
       "    <tr>\n",
       "      <th>50%</th>\n",
       "      <td>3.000000</td>\n",
       "      <td>72.000000</td>\n",
       "      <td>48.600000</td>\n",
       "      <td>2.000000</td>\n",
       "      <td>239.000000</td>\n",
       "      <td>0.000000</td>\n",
       "    </tr>\n",
       "    <tr>\n",
       "      <th>75%</th>\n",
       "      <td>6.000000</td>\n",
       "      <td>170.000000</td>\n",
       "      <td>131.900000</td>\n",
       "      <td>3.000000</td>\n",
       "      <td>311.000000</td>\n",
       "      <td>1.000000</td>\n",
       "    </tr>\n",
       "    <tr>\n",
       "      <th>max</th>\n",
       "      <td>171.000000</td>\n",
       "      <td>374.000000</td>\n",
       "      <td>10281.200000</td>\n",
       "      <td>10.000000</td>\n",
       "      <td>373.000000</td>\n",
       "      <td>1.000000</td>\n",
       "    </tr>\n",
       "  </tbody>\n",
       "</table>\n",
       "</div>"
      ],
      "text/plain": [
       "           frequency        recency  monetary_value  num_unique_items  \\\n",
       "count  213000.000000  213000.000000   213000.000000     213000.000000   \n",
       "mean        5.504216     107.359995      154.119585          2.533653   \n",
       "std         8.603438      99.794488      450.426806          1.649888   \n",
       "min         1.000000       1.000000        0.550000          1.000000   \n",
       "25%         1.000000      25.000000       18.750000          1.000000   \n",
       "50%         3.000000      72.000000       48.600000          2.000000   \n",
       "75%         6.000000     170.000000      131.900000          3.000000   \n",
       "max       171.000000     374.000000    10281.200000         10.000000   \n",
       "\n",
       "              tenure        churned  \n",
       "count  213000.000000  213000.000000  \n",
       "mean      214.481944       0.351742  \n",
       "std       112.950909       0.477515  \n",
       "min         1.000000       0.000000  \n",
       "25%       110.000000       0.000000  \n",
       "50%       239.000000       0.000000  \n",
       "75%       311.000000       1.000000  \n",
       "max       373.000000       1.000000  "
      ]
     },
     "execution_count": 11,
     "metadata": {},
     "output_type": "execute_result"
    }
   ],
   "source": [
    "customer_data = bootstrapped_df\n",
    "customer_data.describe()"
   ]
  },
  {
   "cell_type": "markdown",
   "metadata": {},
   "source": [
    "# Prepare the data"
   ]
  },
  {
   "cell_type": "code",
   "execution_count": 12,
   "metadata": {},
   "outputs": [
    {
     "data": {
      "text/plain": [
       "churned\n",
       "0.0    138079\n",
       "1.0     74921\n",
       "Name: count, dtype: int64"
      ]
     },
     "execution_count": 12,
     "metadata": {},
     "output_type": "execute_result"
    }
   ],
   "source": [
    "# Define the target variable and get the count of each value in the variable.\n",
    "customer_data.churned.value_counts()"
   ]
  },
  {
   "cell_type": "code",
   "execution_count": 13,
   "metadata": {},
   "outputs": [],
   "source": [
    "# Split the data into target and features.\n",
    "target= customer_data.churned\n",
    "features = customer_data.drop(['churned'],axis=1)\n"
   ]
  },
  {
   "cell_type": "code",
   "execution_count": 14,
   "metadata": {},
   "outputs": [
    {
     "data": {
      "text/plain": [
       "((138450, 5), (74550, 5), (138450,), (74550,))"
      ]
     },
     "execution_count": 14,
     "metadata": {},
     "output_type": "execute_result"
    }
   ],
   "source": [
    "X_train, X_test, y_train, y_test = \\\n",
    "train_test_split(features, \\\n",
    "target, test_size=0.35, random_state=42)\n",
    "X_train.shape, X_test.shape, y_train.shape, y_test.shape"
   ]
  },
  {
   "cell_type": "code",
   "execution_count": 15,
   "metadata": {},
   "outputs": [
    {
     "data": {
      "text/plain": [
       "Counter({0.0: 89743, 1.0: 48707})"
      ]
     },
     "execution_count": 15,
     "metadata": {},
     "output_type": "execute_result"
    }
   ],
   "source": [
    "counter_before = Counter(y_train)\n",
    "counter_before"
   ]
  },
  {
   "cell_type": "code",
   "execution_count": 16,
   "metadata": {},
   "outputs": [
    {
     "data": {
      "text/plain": [
       "0.54"
      ]
     },
     "execution_count": 16,
     "metadata": {},
     "output_type": "execute_result"
    }
   ],
   "source": [
    "round(counter_before[1]/counter_before[0],2)"
   ]
  },
  {
   "cell_type": "code",
   "execution_count": 17,
   "metadata": {},
   "outputs": [
    {
     "data": {
      "text/plain": [
       "Counter({0.0: 89743, 1.0: 62820})"
      ]
     },
     "execution_count": 17,
     "metadata": {},
     "output_type": "execute_result"
    }
   ],
   "source": [
    "# Define oversampling strategy.\n",
    "smote = SMOTE(sampling_strategy=0.7)\n",
    "# Fit and apply the transform.\n",
    "X_train,y_train = smote.fit_resample(X_train,y_train)\n",
    "X_train = pd.DataFrame(X_train,columns=X_train.columns)\n",
    "Counter(y_train)"
   ]
  },
  {
   "cell_type": "code",
   "execution_count": 18,
   "metadata": {},
   "outputs": [],
   "source": [
    "X_train[\"frequency\"] = \\\n",
    "winsorize(X_train['frequency'], limits=[0, 0.05])\n",
    "X_train[\"monetary_value\"] = \\\n",
    "winsorize(X_train['monetary_value'], limits=[0, 0.15])"
   ]
  },
  {
   "cell_type": "code",
   "execution_count": 19,
   "metadata": {},
   "outputs": [
    {
     "name": "stdout",
     "output_type": "stream",
     "text": [
      "n_iterations: 9\n",
      "n_required_iterations: 9\n",
      "n_possible_iterations: 9\n",
      "min_resources_: 595\n",
      "max_resources_: 152563\n",
      "aggressive_elimination: True\n",
      "factor: 2\n",
      "----------\n",
      "iter: 0\n",
      "n_candidates: 300\n",
      "n_resources: 595\n",
      "Fitting 5 folds for each of 300 candidates, totalling 1500 fits\n",
      "----------\n",
      "iter: 1\n",
      "n_candidates: 150\n",
      "n_resources: 1190\n",
      "Fitting 5 folds for each of 150 candidates, totalling 750 fits\n",
      "----------\n",
      "iter: 2\n",
      "n_candidates: 75\n",
      "n_resources: 2380\n",
      "Fitting 5 folds for each of 75 candidates, totalling 375 fits\n",
      "----------\n",
      "iter: 3\n",
      "n_candidates: 38\n",
      "n_resources: 4760\n",
      "Fitting 5 folds for each of 38 candidates, totalling 190 fits\n",
      "----------\n",
      "iter: 4\n",
      "n_candidates: 19\n",
      "n_resources: 9520\n",
      "Fitting 5 folds for each of 19 candidates, totalling 95 fits\n",
      "----------\n",
      "iter: 5\n",
      "n_candidates: 10\n",
      "n_resources: 19040\n",
      "Fitting 5 folds for each of 10 candidates, totalling 50 fits\n",
      "----------\n",
      "iter: 6\n",
      "n_candidates: 5\n",
      "n_resources: 38080\n",
      "Fitting 5 folds for each of 5 candidates, totalling 25 fits\n",
      "----------\n",
      "iter: 7\n",
      "n_candidates: 3\n",
      "n_resources: 76160\n",
      "Fitting 5 folds for each of 3 candidates, totalling 15 fits\n",
      "----------\n",
      "iter: 8\n",
      "n_candidates: 2\n",
      "n_resources: 152320\n",
      "Fitting 5 folds for each of 2 candidates, totalling 10 fits\n",
      "Best Model:  Pipeline(steps=[('scaler', MinMaxScaler()), ('reduce_dim', PCA(n_components=4)),\n",
      "                ('model', RandomForestClassifier(random_state=1))])\n",
      "Best Parameters:  {'model': RandomForestClassifier(random_state=1), 'model__max_depth': None, 'model__n_estimators': 100, 'reduce_dim': PCA(n_components=4), 'scaler': MinMaxScaler()}\n",
      "Best Score:  0.9933034802672177\n"
     ]
    }
   ],
   "source": [
    "from sklearn.experimental import enable_halving_search_cv  # Enable HalvingGridSearchCV\n",
    "from sklearn.model_selection import HalvingGridSearchCV     # Import HalvingGridSearchCV\n",
    "from sklearn.model_selection import StratifiedKFold          # Import StratifiedKFold for cross-validation\n",
    "\n",
    "# Define the scalers and PCA options\n",
    "scalers = [None, StandardScaler(), MinMaxScaler()]\n",
    "pca_dims = [None, PCA(n_components=3), PCA(n_components=4), PCA(n_components=5)]\n",
    "\n",
    "# Create parameter grids for each model\n",
    "params = [\n",
    "    # {\n",
    "    #     'scaler': scalers,\n",
    "    #     'reduce_dim': pca_dims,\n",
    "    #     'model': [LogisticRegression()],\n",
    "    #     'model__C': [1.0, 10.0, 100.0]\n",
    "    # },\n",
    "    # {\n",
    "    #     'scaler': scalers,\n",
    "    #     'reduce_dim': pca_dims,\n",
    "    #     'model': [DummyClassifier(strategy='stratified')]\n",
    "    # },\n",
    "    # {\n",
    "    #     'scaler': scalers,\n",
    "    #     'reduce_dim': pca_dims,\n",
    "    #     'model': [SVC()],\n",
    "    #     'model__kernel': ['rbf', 'linear', 'poly', 'sigmoid'],\n",
    "    #     'model__C': [1.0, 2.0, 3.0],\n",
    "    #     'model__degree': [2, 3, 4]\n",
    "    # },\n",
    "    {\n",
    "        'scaler': scalers,\n",
    "        'reduce_dim': pca_dims,\n",
    "        'model': [XGBClassifier(eval_metric='logloss', n_jobs=1)],\n",
    "        'model__max_depth': [3, 5, 7],\n",
    "        'model__n_estimators': [50, 100, 200]\n",
    "    },\n",
    "    {\n",
    "        'scaler': scalers,\n",
    "        'reduce_dim': pca_dims,\n",
    "        'model': [DecisionTreeClassifier()],\n",
    "        'model__max_depth': [None, 10, 20, 30]\n",
    "    },\n",
    "    {\n",
    "        'scaler': scalers,\n",
    "        'reduce_dim': pca_dims,\n",
    "        'model': [RandomForestClassifier(random_state=1)],\n",
    "        'model__n_estimators': [50, 100, 200],\n",
    "        'model__max_depth': [None, 10, 20, 30]\n",
    "    }\n",
    "]\n",
    "\n",
    "# Define the pipeline\n",
    "pipe = Pipeline([\n",
    "    ('scaler', MinMaxScaler()),  # Default scaler, will be overwritten by HalvingGridSearchCV\n",
    "    ('reduce_dim', PCA(n_components=2)),  # Default PCA, will be overwritten by HalvingGridSearchCV\n",
    "    ('model', LogisticRegression())  # Default model, will be overwritten by HalvingGridSearchCV\n",
    "])\n",
    "\n",
    "# Setup and run HalvingGridSearchCV\n",
    "halving_gs = HalvingGridSearchCV(pipe, param_grid=params, n_jobs=-1, verbose=2, cv=StratifiedKFold(5, shuffle=True, random_state=42), factor=2,aggressive_elimination=True)\n",
    "halving_gs.fit(X_train, y_train)\n",
    "\n",
    "# Get the best parameters and best score\n",
    "best_params = halving_gs.best_params_\n",
    "best_score = halving_gs.best_score_\n",
    "best_model = halving_gs.best_estimator_\n",
    "\n",
    "print(\"Best Model: \", best_model)\n",
    "print(\"Best Parameters: \", best_params)\n",
    "print(\"Best Score: \", best_score)\n"
   ]
  },
  {
   "cell_type": "markdown",
   "metadata": {},
   "source": [
    "# Begin evaluating the best model"
   ]
  },
  {
   "cell_type": "code",
   "execution_count": 20,
   "metadata": {},
   "outputs": [
    {
     "data": {
      "text/html": [
       "<style>#sk-container-id-1 {color: black;background-color: white;}#sk-container-id-1 pre{padding: 0;}#sk-container-id-1 div.sk-toggleable {background-color: white;}#sk-container-id-1 label.sk-toggleable__label {cursor: pointer;display: block;width: 100%;margin-bottom: 0;padding: 0.3em;box-sizing: border-box;text-align: center;}#sk-container-id-1 label.sk-toggleable__label-arrow:before {content: \"▸\";float: left;margin-right: 0.25em;color: #696969;}#sk-container-id-1 label.sk-toggleable__label-arrow:hover:before {color: black;}#sk-container-id-1 div.sk-estimator:hover label.sk-toggleable__label-arrow:before {color: black;}#sk-container-id-1 div.sk-toggleable__content {max-height: 0;max-width: 0;overflow: hidden;text-align: left;background-color: #f0f8ff;}#sk-container-id-1 div.sk-toggleable__content pre {margin: 0.2em;color: black;border-radius: 0.25em;background-color: #f0f8ff;}#sk-container-id-1 input.sk-toggleable__control:checked~div.sk-toggleable__content {max-height: 200px;max-width: 100%;overflow: auto;}#sk-container-id-1 input.sk-toggleable__control:checked~label.sk-toggleable__label-arrow:before {content: \"▾\";}#sk-container-id-1 div.sk-estimator input.sk-toggleable__control:checked~label.sk-toggleable__label {background-color: #d4ebff;}#sk-container-id-1 div.sk-label input.sk-toggleable__control:checked~label.sk-toggleable__label {background-color: #d4ebff;}#sk-container-id-1 input.sk-hidden--visually {border: 0;clip: rect(1px 1px 1px 1px);clip: rect(1px, 1px, 1px, 1px);height: 1px;margin: -1px;overflow: hidden;padding: 0;position: absolute;width: 1px;}#sk-container-id-1 div.sk-estimator {font-family: monospace;background-color: #f0f8ff;border: 1px dotted black;border-radius: 0.25em;box-sizing: border-box;margin-bottom: 0.5em;}#sk-container-id-1 div.sk-estimator:hover {background-color: #d4ebff;}#sk-container-id-1 div.sk-parallel-item::after {content: \"\";width: 100%;border-bottom: 1px solid gray;flex-grow: 1;}#sk-container-id-1 div.sk-label:hover label.sk-toggleable__label {background-color: #d4ebff;}#sk-container-id-1 div.sk-serial::before {content: \"\";position: absolute;border-left: 1px solid gray;box-sizing: border-box;top: 0;bottom: 0;left: 50%;z-index: 0;}#sk-container-id-1 div.sk-serial {display: flex;flex-direction: column;align-items: center;background-color: white;padding-right: 0.2em;padding-left: 0.2em;position: relative;}#sk-container-id-1 div.sk-item {position: relative;z-index: 1;}#sk-container-id-1 div.sk-parallel {display: flex;align-items: stretch;justify-content: center;background-color: white;position: relative;}#sk-container-id-1 div.sk-item::before, #sk-container-id-1 div.sk-parallel-item::before {content: \"\";position: absolute;border-left: 1px solid gray;box-sizing: border-box;top: 0;bottom: 0;left: 50%;z-index: -1;}#sk-container-id-1 div.sk-parallel-item {display: flex;flex-direction: column;z-index: 1;position: relative;background-color: white;}#sk-container-id-1 div.sk-parallel-item:first-child::after {align-self: flex-end;width: 50%;}#sk-container-id-1 div.sk-parallel-item:last-child::after {align-self: flex-start;width: 50%;}#sk-container-id-1 div.sk-parallel-item:only-child::after {width: 0;}#sk-container-id-1 div.sk-dashed-wrapped {border: 1px dashed gray;margin: 0 0.4em 0.5em 0.4em;box-sizing: border-box;padding-bottom: 0.4em;background-color: white;}#sk-container-id-1 div.sk-label label {font-family: monospace;font-weight: bold;display: inline-block;line-height: 1.2em;}#sk-container-id-1 div.sk-label-container {text-align: center;}#sk-container-id-1 div.sk-container {/* jupyter's `normalize.less` sets `[hidden] { display: none; }` but bootstrap.min.css set `[hidden] { display: none !important; }` so we also need the `!important` here to be able to override the default hidden behavior on the sphinx rendered scikit-learn.org. See: https://github.com/scikit-learn/scikit-learn/issues/21755 */display: inline-block !important;position: relative;}#sk-container-id-1 div.sk-text-repr-fallback {display: none;}</style><div id=\"sk-container-id-1\" class=\"sk-top-container\"><div class=\"sk-text-repr-fallback\"><pre>Pipeline(steps=[(&#x27;scaler&#x27;, MinMaxScaler()), (&#x27;reduce_dim&#x27;, PCA(n_components=4)),\n",
       "                (&#x27;model&#x27;, RandomForestClassifier(random_state=1))])</pre><b>In a Jupyter environment, please rerun this cell to show the HTML representation or trust the notebook. <br />On GitHub, the HTML representation is unable to render, please try loading this page with nbviewer.org.</b></div><div class=\"sk-container\" hidden><div class=\"sk-item sk-dashed-wrapped\"><div class=\"sk-label-container\"><div class=\"sk-label sk-toggleable\"><input class=\"sk-toggleable__control sk-hidden--visually\" id=\"sk-estimator-id-1\" type=\"checkbox\" ><label for=\"sk-estimator-id-1\" class=\"sk-toggleable__label sk-toggleable__label-arrow\">Pipeline</label><div class=\"sk-toggleable__content\"><pre>Pipeline(steps=[(&#x27;scaler&#x27;, MinMaxScaler()), (&#x27;reduce_dim&#x27;, PCA(n_components=4)),\n",
       "                (&#x27;model&#x27;, RandomForestClassifier(random_state=1))])</pre></div></div></div><div class=\"sk-serial\"><div class=\"sk-item\"><div class=\"sk-estimator sk-toggleable\"><input class=\"sk-toggleable__control sk-hidden--visually\" id=\"sk-estimator-id-2\" type=\"checkbox\" ><label for=\"sk-estimator-id-2\" class=\"sk-toggleable__label sk-toggleable__label-arrow\">MinMaxScaler</label><div class=\"sk-toggleable__content\"><pre>MinMaxScaler()</pre></div></div></div><div class=\"sk-item\"><div class=\"sk-estimator sk-toggleable\"><input class=\"sk-toggleable__control sk-hidden--visually\" id=\"sk-estimator-id-3\" type=\"checkbox\" ><label for=\"sk-estimator-id-3\" class=\"sk-toggleable__label sk-toggleable__label-arrow\">PCA</label><div class=\"sk-toggleable__content\"><pre>PCA(n_components=4)</pre></div></div></div><div class=\"sk-item\"><div class=\"sk-estimator sk-toggleable\"><input class=\"sk-toggleable__control sk-hidden--visually\" id=\"sk-estimator-id-4\" type=\"checkbox\" ><label for=\"sk-estimator-id-4\" class=\"sk-toggleable__label sk-toggleable__label-arrow\">RandomForestClassifier</label><div class=\"sk-toggleable__content\"><pre>RandomForestClassifier(random_state=1)</pre></div></div></div></div></div></div></div>"
      ],
      "text/plain": [
       "Pipeline(steps=[('scaler', MinMaxScaler()), ('reduce_dim', PCA(n_components=4)),\n",
       "                ('model', RandomForestClassifier(random_state=1))])"
      ]
     },
     "execution_count": 20,
     "metadata": {},
     "output_type": "execute_result"
    }
   ],
   "source": [
    "# best_model = Pipeline(steps=[('scaler', StandardScaler()),\n",
    "#                 ('reduce_dim', PCA(n_components=4)),\n",
    "#                 ('model', RandomForestClassifier(random_state=42))])\n",
    "best_model.fit(X_train,y_train)"
   ]
  },
  {
   "cell_type": "code",
   "execution_count": 21,
   "metadata": {},
   "outputs": [],
   "source": [
    "best_y_pred = best_model.predict(X_test)"
   ]
  },
  {
   "cell_type": "code",
   "execution_count": 22,
   "metadata": {},
   "outputs": [
    {
     "data": {
      "text/plain": [
       "Counter({0.0: 48540, 1.0: 26010})"
      ]
     },
     "execution_count": 22,
     "metadata": {},
     "output_type": "execute_result"
    }
   ],
   "source": [
    "Counter(best_y_pred)"
   ]
  },
  {
   "cell_type": "code",
   "execution_count": 23,
   "metadata": {},
   "outputs": [
    {
     "data": {
      "text/plain": [
       "Counter({0.0: 48336, 1.0: 26214})"
      ]
     },
     "execution_count": 23,
     "metadata": {},
     "output_type": "execute_result"
    }
   ],
   "source": [
    "Counter(y_test)"
   ]
  },
  {
   "cell_type": "code",
   "execution_count": 24,
   "metadata": {},
   "outputs": [],
   "source": [
    "from sklearn.metrics import auc"
   ]
  },
  {
   "cell_type": "code",
   "execution_count": 25,
   "metadata": {},
   "outputs": [],
   "source": [
    "def plot_roc_curve(model, X_test, y_test, model_name='Model'):\n",
    "    \"\"\"\n",
    "    Plots the ROC curve for a given model and test dataset.\n",
    "\n",
    "    Parameters:\n",
    "    model (estimator): Trained model with a predict_proba method.\n",
    "    X_test (array-like): Test features.\n",
    "    y_test (array-like): True binary labels for the test set.\n",
    "    model_name (str): Name of the model (for plot title and legend).\n",
    "    \"\"\"\n",
    "    # Predict probabilities for the test set\n",
    "    y_prob = model.predict_proba(X_test)[:, 1]\n",
    "\n",
    "    # Compute ROC curve and ROC area\n",
    "    fpr, tpr, _ = roc_curve(y_test, y_prob)\n",
    "    roc_auc = auc(fpr, tpr)\n",
    "\n",
    "    # Plot ROC curve\n",
    "    plt.figure()\n",
    "    plt.plot(fpr, tpr, color='darkorange', lw=2, label=f'ROC curve (area = {roc_auc:0.2f})')\n",
    "    plt.plot([0, 1], [0, 1], color='navy', lw=2, linestyle='--')\n",
    "    plt.xlim([0.0, 1.0])\n",
    "    plt.ylim([0.0, 1.05])\n",
    "    plt.xlabel('False Positive Rate')\n",
    "    plt.ylabel('True Positive Rate')\n",
    "    plt.title(f'Receiver Operating Characteristic - {model_name}')\n",
    "    plt.legend(loc=\"lower right\")\n",
    "    plt.show()"
   ]
  },
  {
   "cell_type": "code",
   "execution_count": 26,
   "metadata": {},
   "outputs": [
    {
     "data": {
      "image/png": "[encoded data removed]",
      "text/plain": [
       "<Figure size 640x480 with 1 Axes>"
      ]
     },
     "metadata": {},
     "output_type": "display_data"
    }
   ],
   "source": [
    "# Plot a ROC curve.\n",
    "plot_roc_curve(best_model,X_test,y_test)\n",
    "plt.show()\n"
   ]
  },
  {
   "cell_type": "markdown",
   "metadata": {},
   "source": [
    "# Generate a confusion matrix of the best model"
   ]
  },
  {
   "cell_type": "code",
   "execution_count": 27,
   "metadata": {},
   "outputs": [],
   "source": [
    "# Generate a confusion matrix.\n",
    "cm = confusion_matrix(y_test,best_y_pred)\n"
   ]
  },
  {
   "cell_type": "code",
   "execution_count": 28,
   "metadata": {},
   "outputs": [
    {
     "data": {
      "text/plain": [
       "(<Figure size 640x480 with 2 Axes>,\n",
       " <Axes: xlabel='predicted label', ylabel='true label'>)"
      ]
     },
     "execution_count": 28,
     "metadata": {},
     "output_type": "execute_result"
    },
    {
     "data": {
      "image/png": "[encoded data removed]",
      "text/plain": [
       "<Figure size 640x480 with 2 Axes>"
      ]
     },
     "metadata": {},
     "output_type": "display_data"
    }
   ],
   "source": [
    "# Plot the confusion matrix.\n",
    "plot_confusion_matrix(cm,show_normed=True,cmap=plt.cm.YlGnBu,class_names=[\"Not Churned\",\"Churned\"],colorbar=True)\n",
    "\n",
    "\n",
    "\n",
    "    \n",
    "\n",
    "\n"
   ]
  },
  {
   "cell_type": "markdown",
   "metadata": {},
   "source": [
    "# Generate a feature importance plot for the best model"
   ]
  },
  {
   "cell_type": "code",
   "execution_count": 29,
   "metadata": {},
   "outputs": [],
   "source": [
    "# This function generates a feature importance plot on a bar chart.\n",
    "\n",
    "def feature_importance_plot(model, X_train, n):\n",
    "    \"\"\"Plots feature importance. This works for random forest and XGBoost models.\"\"\"\n",
    "    \n",
    "    plt.figure(figsize=(8, 5))  # Set figure size.\n",
    "    \n",
    "    # Check if the model has feature importances attribute\n",
    "    if hasattr(model, 'feature_importances_'):\n",
    "        feat_importances = pd.Series(model.feature_importances_,\n",
    "                                     index=X_train.columns)\n",
    "        top_n_features = feat_importances.nlargest(n)\n",
    "        top_n_features.plot(kind='barh')\n",
    "        plt.title(f'Top {n} Features')\n",
    "        plt.xlabel('Feature Importance')\n",
    "        plt.ylabel('Feature')\n",
    "        plt.show()\n",
    "    else:\n",
    "        print(\"Feature importances not available for this model.\")\n",
    "\n",
    "\n"
   ]
  },
  {
   "cell_type": "code",
   "execution_count": 30,
   "metadata": {},
   "outputs": [],
   "source": [
    "#feature importance plot with pca\n",
    "def feature_importance_pca_plot(model, original_features):\n",
    "    \"\"\"Plots feature importance based on PCA loadings.\"\"\"\n",
    "    \n",
    "    # Get the PCA component from the pipeline\n",
    "    pca = model.named_steps['reduce_dim']\n",
    "    \n",
    "    # Get the feature importances from RandomForestClassifier\n",
    "    rf = model.named_steps['model']\n",
    "    importances = rf.feature_importances_\n",
    "    \n",
    "    # Get the absolute values of PCA components' loadings as feature importances\n",
    "    pca_loadings_abs = np.abs(pca.components_)\n",
    "    \n",
    "    # Consider only the importances for the number of PCA components\n",
    "    pca_importances = importances[:pca_loadings_abs.shape[0]]\n",
    "    \n",
    "    # Calculate the feature importances across all components\n",
    "    feature_importances = np.sum(pca_loadings_abs * pca_importances[:, np.newaxis], axis=0)\n",
    "    \n",
    "    # Create a pandas Series for easier plotting\n",
    "    feat_importances = pd.Series(feature_importances, index=original_features)\n",
    "    top_features = feat_importances.nlargest(len(original_features))  # Plot all features\n",
    "    top_features.plot(kind='barh')\n",
    "    plt.title('Feature Importance based on PCA Loadings')\n",
    "    plt.xlabel('Absolute Importance')\n",
    "    plt.ylabel('Feature')\n",
    "    plt.show()\n",
    "\n",
    "# Example usage assuming you have a model named 'best_model' and original features named 'X_train.columns'\n",
    "\n"
   ]
  },
  {
   "cell_type": "markdown",
   "metadata": {},
   "source": [
    "# Plot a learning curve for the best model"
   ]
  },
  {
   "cell_type": "code",
   "execution_count": 31,
   "metadata": {},
   "outputs": [],
   "source": [
    "\n",
    "def plot_learning_curves(model, X_train, y_train):\n",
    "    \"\"\"Plots learning curves for model validation.\"\"\"\n",
    "    \n",
    "    plt.figure(figsize=(10, 6))  # Set a larger figure size for better visualization.\n",
    "    \n",
    "    train_sizes, train_scores, test_scores = learning_curve(model,\n",
    "                                                            X_train,\n",
    "                                                            y_train,\n",
    "                                                            cv = 3,  # Number of folds in cross-validation.\n",
    "                                                            scoring = 'neg_mean_squared_error',  # Evaluation metric.\n",
    "                                                            n_jobs = 1,\n",
    "                                                            shuffle = True,\n",
    "                                                            train_sizes = np.linspace(0.01, 1.0, 10))  # More points for smoother curves.\n",
    "\n",
    "    # Create means and standard deviations of training set scores.\n",
    "    train_mean = np.mean(train_scores, axis = 1)\n",
    "    train_std = np.std(train_scores, axis = 1)\n",
    "\n",
    "    # Create means and standard deviations of test set scores.\n",
    "    test_mean = np.mean(test_scores, axis = 1)\n",
    "    test_std = np.std(test_scores, axis = 1)\n",
    "    \n",
    "    # Find the optimum training size: where the gap between training and cross-validation scores is minimized.\n",
    "    optimal_idx = np.argmin(np.abs(train_mean - test_mean))\n",
    "    optimal_size = train_sizes[optimal_idx]\n",
    "    \n",
    "    # Annotate the optimum training size.\n",
    "    plt.annotate(f'Optimum Training Size: {optimal_size}',\n",
    "                 xy=(optimal_size, test_mean[optimal_idx]),\n",
    "                 xytext=(optimal_size, test_mean[optimal_idx] + 0.1),\n",
    "                 arrowprops=dict(facecolor='black', shrink=0.05),\n",
    "                 ha='center')\n",
    "    \n",
    "    # Draw lines.\n",
    "    plt.plot(train_sizes, train_mean, '--', color = '#111111', label = 'Training score')\n",
    "    plt.plot(train_sizes, test_mean, color = '#111111', label = 'Cross-validation score')\n",
    "    \n",
    "    # Fill the area between the lines to show the variance.\n",
    "    plt.fill_between(train_sizes, train_mean - train_std, train_mean + train_std, color = '#DDDDDD')\n",
    "    plt.fill_between(train_sizes, test_mean - test_std, test_mean + test_std, color = '#DDDDDD')\n",
    "    \n",
    "    # Create plot.\n",
    "    plt.title('Learning Curves')\n",
    "    plt.xlabel('Training Set Size'), plt.ylabel('Negative MSE'), plt.legend(loc = 'best')\n",
    "    \n",
    "    # Adjust x-axis and y-axis limits based on the training data size.\n",
    "    plt.xlim(0, 160000)\n",
    "    plt.ylim(min(train_mean.min(), test_mean.min()) - 5, max(train_mean.max(), test_mean.max()) + 5)\n",
    "    \n",
    "    plt.tight_layout()\n",
    "    plt.show()\n",
    "\n",
    "# Example usage with a model (replace `model` with your actual model):\n",
    "# plot_learning_curves(model, X_train, y_train)\n"
   ]
  },
  {
   "cell_type": "code",
   "execution_count": 32,
   "metadata": {},
   "outputs": [
    {
     "data": {
      "image/png": "[encoded data removed]",
      "text/plain": [
       "<Figure size 1000x600 with 1 Axes>"
      ]
     },
     "metadata": {},
     "output_type": "display_data"
    }
   ],
   "source": [
    "# Call the function to plot learning curves for the best model.\n",
    "plot_learning_curves(best_model.named_steps['model'],X_train,y_train)"
   ]
  },
  {
   "cell_type": "code",
   "execution_count": 33,
   "metadata": {},
   "outputs": [
    {
     "data": {
      "text/plain": [
       "(152563, 5)"
      ]
     },
     "execution_count": 33,
     "metadata": {},
     "output_type": "execute_result"
    }
   ],
   "source": [
    "X_train.shape"
   ]
  },
  {
   "cell_type": "code",
   "execution_count": 34,
   "metadata": {},
   "outputs": [],
   "source": [
    "from sklearn.metrics import mean_squared_error"
   ]
  },
  {
   "cell_type": "code",
   "execution_count": 35,
   "metadata": {},
   "outputs": [
    {
     "name": "stdout",
     "output_type": "stream",
     "text": [
      "Accuracy is  0.9260362173038229\n"
     ]
    },
    {
     "data": {
      "text/html": [
       "<div>\n",
       "<style scoped>\n",
       "    .dataframe tbody tr th:only-of-type {\n",
       "        vertical-align: middle;\n",
       "    }\n",
       "\n",
       "    .dataframe tbody tr th {\n",
       "        vertical-align: top;\n",
       "    }\n",
       "\n",
       "    .dataframe thead th {\n",
       "        text-align: right;\n",
       "    }\n",
       "</style>\n",
       "<table border=\"1\" class=\"dataframe\">\n",
       "  <thead>\n",
       "    <tr style=\"text-align: right;\">\n",
       "      <th></th>\n",
       "      <th>Not churned</th>\n",
       "      <th>Churned</th>\n",
       "      <th>macro avg</th>\n",
       "      <th>weighted avg</th>\n",
       "    </tr>\n",
       "  </thead>\n",
       "  <tbody>\n",
       "    <tr>\n",
       "      <th>precision</th>\n",
       "      <td>0.941100</td>\n",
       "      <td>0.897924</td>\n",
       "      <td>0.919512</td>\n",
       "      <td>0.925918</td>\n",
       "    </tr>\n",
       "    <tr>\n",
       "      <th>recall</th>\n",
       "      <td>0.945072</td>\n",
       "      <td>0.890936</td>\n",
       "      <td>0.918004</td>\n",
       "      <td>0.926036</td>\n",
       "    </tr>\n",
       "    <tr>\n",
       "      <th>f1-score</th>\n",
       "      <td>0.943082</td>\n",
       "      <td>0.894416</td>\n",
       "      <td>0.918749</td>\n",
       "      <td>0.925970</td>\n",
       "    </tr>\n",
       "    <tr>\n",
       "      <th>support</th>\n",
       "      <td>48336.000000</td>\n",
       "      <td>26214.000000</td>\n",
       "      <td>74550.000000</td>\n",
       "      <td>74550.000000</td>\n",
       "    </tr>\n",
       "  </tbody>\n",
       "</table>\n",
       "</div>"
      ],
      "text/plain": [
       "            Not churned       Churned     macro avg  weighted avg\n",
       "precision      0.941100      0.897924      0.919512      0.925918\n",
       "recall         0.945072      0.890936      0.918004      0.926036\n",
       "f1-score       0.943082      0.894416      0.918749      0.925970\n",
       "support    48336.000000  26214.000000  74550.000000  74550.000000"
      ]
     },
     "execution_count": 35,
     "metadata": {},
     "output_type": "execute_result"
    }
   ],
   "source": [
    "cf = classification_report(y_test,best_y_pred,output_dict=True,target_names=[\"Not churned\",\"Churned\"])\n",
    "print(\"Accuracy is \",cf[\"accuracy\"])\n",
    "del cf[\"accuracy\"]\n",
    "cf_df = pd.DataFrame(cf)\n",
    "cf_df"
   ]
  },
  {
   "cell_type": "markdown",
   "metadata": {},
   "source": [
    "# Save the best model"
   ]
  },
  {
   "cell_type": "code",
   "execution_count": 36,
   "metadata": {},
   "outputs": [],
   "source": [
    "# Save the best model as a pickle file named best_classification_model.pickle.\n",
    "pickle.dump(best_model,open('../models/best_classification_model.pickle','wb'))\n"
   ]
  },
  {
   "cell_type": "code",
   "execution_count": null,
   "metadata": {},
   "outputs": [],
   "source": []
  }
 ],
 "metadata": {
  "kernelspec": {
   "display_name": "Python 3 (ipykernel)",
   "language": "python",
   "name": "python3"
  },
  "language_info": {
   "codemirror_mode": {
    "name": "ipython",
    "version": 3
   },
   "file_extension": ".py",
   "mimetype": "text/x-python",
   "name": "python",
   "nbconvert_exporter": "python",
   "pygments_lexer": "ipython3",
   "version": "3.11.7"
  }
 },
 "nbformat": 4,
 "nbformat_minor": 4
}
