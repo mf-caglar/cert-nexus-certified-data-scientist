{
 "cells": [
  {
   "cell_type": "markdown",
   "metadata": {},
   "source": [
    "# Import software libraries"
   ]
  },
  {
   "cell_type": "code",
   "execution_count": 669,
   "metadata": {},
   "outputs": [
    {
     "name": "stdout",
     "output_type": "stream",
     "text": [
      "Libraries used in this project:\n",
      "- NumPy 1.26.4\n",
      "- Python 3.11.7 | packaged by Anaconda, Inc. | (main, Dec 15 2023, 18:05:47) [MSC v.1916 64 bit (AMD64)]\n",
      "- pandas 2.2.1\n",
      "- Matplotlib 3.8.0\n",
      "- Seaborn 0.11.0\n"
     ]
    }
   ],
   "source": [
    "# Import required libraries.\n",
    "import sys                          # Read system parameters.\n",
    "import numpy as np                  # Work with multi-dimensional arrays.\n",
    "import pandas as pd                 # Manipulate and analyze data.\n",
    "import matplotlib                   # Create and format charts.\n",
    "import matplotlib.pyplot as plt  \n",
    "import seaborn as sns               # Make charting easier.\n",
    "\n",
    "# Summarize software libraries used.\n",
    "print('Libraries used in this project:')\n",
    "print('- NumPy {}'.format(np.__version__))\n",
    "print('- Python {}'.format(sys.version))\n",
    "print('- pandas {}'.format(pd.__version__))\n",
    "print('- Matplotlib {}'.format(matplotlib.__version__))\n",
    "print('- Seaborn {}'.format(sns.__version__))"
   ]
  },
  {
   "cell_type": "markdown",
   "metadata": {},
   "source": [
    "# Read and examine the data"
   ]
  },
  {
   "cell_type": "code",
   "execution_count": 670,
   "metadata": {},
   "outputs": [
    {
     "data": {
      "text/html": [
       "<div>\n",
       "<style scoped>\n",
       "    .dataframe tbody tr th:only-of-type {\n",
       "        vertical-align: middle;\n",
       "    }\n",
       "\n",
       "    .dataframe tbody tr th {\n",
       "        vertical-align: top;\n",
       "    }\n",
       "\n",
       "    .dataframe thead th {\n",
       "        text-align: right;\n",
       "    }\n",
       "</style>\n",
       "<table border=\"1\" class=\"dataframe\">\n",
       "  <thead>\n",
       "    <tr style=\"text-align: right;\">\n",
       "      <th></th>\n",
       "      <th>Invoice</th>\n",
       "      <th>StockCode</th>\n",
       "      <th>Quantity</th>\n",
       "      <th>InvoiceDate</th>\n",
       "      <th>Price</th>\n",
       "      <th>CustomerID</th>\n",
       "      <th>Country</th>\n",
       "      <th>TotalAmount</th>\n",
       "      <th>Description</th>\n",
       "    </tr>\n",
       "  </thead>\n",
       "  <tbody>\n",
       "    <tr>\n",
       "      <th>0</th>\n",
       "      <td>536365</td>\n",
       "      <td>85123A</td>\n",
       "      <td>6</td>\n",
       "      <td>2010-12-01</td>\n",
       "      <td>2.55</td>\n",
       "      <td>u1785</td>\n",
       "      <td>United Kingdom</td>\n",
       "      <td>15.30</td>\n",
       "      <td>CREAM HANGING HEART T-LIGHT HOLDER</td>\n",
       "    </tr>\n",
       "    <tr>\n",
       "      <th>1</th>\n",
       "      <td>536367</td>\n",
       "      <td>84879</td>\n",
       "      <td>32</td>\n",
       "      <td>2010-12-01</td>\n",
       "      <td>1.69</td>\n",
       "      <td>u13047</td>\n",
       "      <td>United Kingdom</td>\n",
       "      <td>54.08</td>\n",
       "      <td>ASSORTED COLOUR BIRD ORNAMENT</td>\n",
       "    </tr>\n",
       "    <tr>\n",
       "      <th>2</th>\n",
       "      <td>536373</td>\n",
       "      <td>85123A</td>\n",
       "      <td>6</td>\n",
       "      <td>2010-12-01</td>\n",
       "      <td>2.55</td>\n",
       "      <td>u1785</td>\n",
       "      <td>United Kingdom</td>\n",
       "      <td>15.30</td>\n",
       "      <td>CREAM HANGING HEART T-LIGHT HOLDER</td>\n",
       "    </tr>\n",
       "    <tr>\n",
       "      <th>3</th>\n",
       "      <td>536375</td>\n",
       "      <td>85123A</td>\n",
       "      <td>6</td>\n",
       "      <td>2010-12-01</td>\n",
       "      <td>2.55</td>\n",
       "      <td>u1785</td>\n",
       "      <td>United Kingdom</td>\n",
       "      <td>15.30</td>\n",
       "      <td>CREAM HANGING HEART T-LIGHT HOLDER</td>\n",
       "    </tr>\n",
       "    <tr>\n",
       "      <th>4</th>\n",
       "      <td>536378</td>\n",
       "      <td>20725</td>\n",
       "      <td>10</td>\n",
       "      <td>2010-12-01</td>\n",
       "      <td>1.65</td>\n",
       "      <td>u14688</td>\n",
       "      <td>United Kingdom</td>\n",
       "      <td>16.50</td>\n",
       "      <td>LUNCH BAG RED RETROSPOT</td>\n",
       "    </tr>\n",
       "  </tbody>\n",
       "</table>\n",
       "</div>"
      ],
      "text/plain": [
       "  Invoice StockCode  Quantity InvoiceDate  Price CustomerID         Country  \\\n",
       "0  536365    85123A         6  2010-12-01   2.55      u1785  United Kingdom   \n",
       "1  536367     84879        32  2010-12-01   1.69     u13047  United Kingdom   \n",
       "2  536373    85123A         6  2010-12-01   2.55      u1785  United Kingdom   \n",
       "3  536375    85123A         6  2010-12-01   2.55      u1785  United Kingdom   \n",
       "4  536378     20725        10  2010-12-01   1.65     u14688  United Kingdom   \n",
       "\n",
       "   TotalAmount                         Description  \n",
       "0        15.30  CREAM HANGING HEART T-LIGHT HOLDER  \n",
       "1        54.08       ASSORTED COLOUR BIRD ORNAMENT  \n",
       "2        15.30  CREAM HANGING HEART T-LIGHT HOLDER  \n",
       "3        15.30  CREAM HANGING HEART T-LIGHT HOLDER  \n",
       "4        16.50             LUNCH BAG RED RETROSPOT  "
      ]
     },
     "execution_count": 670,
     "metadata": {},
     "output_type": "execute_result"
    }
   ],
   "source": [
    "# Read the data that was put through the ETL process in Course 2 of the CDSP Specialization. \n",
    "online_history = pd.read_pickle('../data/online_history_cleaned.pickle')\n",
    "\n",
    "\n",
    "# Preview the first five rows of the data.\n",
    "online_history.head(5)\n"
   ]
  },
  {
   "cell_type": "code",
   "execution_count": 671,
   "metadata": {},
   "outputs": [
    {
     "data": {
      "text/plain": [
       "(15206, 9)"
      ]
     },
     "execution_count": 671,
     "metadata": {},
     "output_type": "execute_result"
    }
   ],
   "source": [
    "# Get the shape of the data.\n",
    "online_history.shape\n"
   ]
  },
  {
   "cell_type": "code",
   "execution_count": 672,
   "metadata": {},
   "outputs": [
    {
     "data": {
      "text/plain": [
       "Invoice         object\n",
       "StockCode       object\n",
       "Quantity         int64\n",
       "InvoiceDate     object\n",
       "Price          float64\n",
       "CustomerID      object\n",
       "Country         object\n",
       "TotalAmount    float64\n",
       "Description     object\n",
       "dtype: object"
      ]
     },
     "execution_count": 672,
     "metadata": {},
     "output_type": "execute_result"
    }
   ],
   "source": [
    "# Get the data types for every column in the DataFrame.\n",
    "online_history.dtypes\n"
   ]
  },
  {
   "cell_type": "markdown",
   "metadata": {},
   "source": [
    "# Generate summary statistics for all of the data"
   ]
  },
  {
   "cell_type": "code",
   "execution_count": 673,
   "metadata": {},
   "outputs": [
    {
     "data": {
      "text/html": [
       "<div>\n",
       "<style scoped>\n",
       "    .dataframe tbody tr th:only-of-type {\n",
       "        vertical-align: middle;\n",
       "    }\n",
       "\n",
       "    .dataframe tbody tr th {\n",
       "        vertical-align: top;\n",
       "    }\n",
       "\n",
       "    .dataframe thead th {\n",
       "        text-align: right;\n",
       "    }\n",
       "</style>\n",
       "<table border=\"1\" class=\"dataframe\">\n",
       "  <thead>\n",
       "    <tr style=\"text-align: right;\">\n",
       "      <th></th>\n",
       "      <th>Quantity</th>\n",
       "      <th>Price</th>\n",
       "      <th>TotalAmount</th>\n",
       "    </tr>\n",
       "  </thead>\n",
       "  <tbody>\n",
       "    <tr>\n",
       "      <th>count</th>\n",
       "      <td>15206.000000</td>\n",
       "      <td>15194.000000</td>\n",
       "      <td>15194.000000</td>\n",
       "    </tr>\n",
       "    <tr>\n",
       "      <th>mean</th>\n",
       "      <td>16.775483</td>\n",
       "      <td>4.164267</td>\n",
       "      <td>40.705153</td>\n",
       "    </tr>\n",
       "    <tr>\n",
       "      <th>std</th>\n",
       "      <td>79.496270</td>\n",
       "      <td>4.377605</td>\n",
       "      <td>132.142503</td>\n",
       "    </tr>\n",
       "    <tr>\n",
       "      <th>min</th>\n",
       "      <td>1.000000</td>\n",
       "      <td>0.400000</td>\n",
       "      <td>0.550000</td>\n",
       "    </tr>\n",
       "    <tr>\n",
       "      <th>25%</th>\n",
       "      <td>2.000000</td>\n",
       "      <td>1.650000</td>\n",
       "      <td>8.850000</td>\n",
       "    </tr>\n",
       "    <tr>\n",
       "      <th>50%</th>\n",
       "      <td>6.000000</td>\n",
       "      <td>2.550000</td>\n",
       "      <td>16.500000</td>\n",
       "    </tr>\n",
       "    <tr>\n",
       "      <th>75%</th>\n",
       "      <td>12.000000</td>\n",
       "      <td>4.950000</td>\n",
       "      <td>30.360000</td>\n",
       "    </tr>\n",
       "    <tr>\n",
       "      <th>max</th>\n",
       "      <td>4300.000000</td>\n",
       "      <td>32.040000</td>\n",
       "      <td>4921.500000</td>\n",
       "    </tr>\n",
       "  </tbody>\n",
       "</table>\n",
       "</div>"
      ],
      "text/plain": [
       "           Quantity         Price   TotalAmount\n",
       "count  15206.000000  15194.000000  15194.000000\n",
       "mean      16.775483      4.164267     40.705153\n",
       "std       79.496270      4.377605    132.142503\n",
       "min        1.000000      0.400000      0.550000\n",
       "25%        2.000000      1.650000      8.850000\n",
       "50%        6.000000      2.550000     16.500000\n",
       "75%       12.000000      4.950000     30.360000\n",
       "max     4300.000000     32.040000   4921.500000"
      ]
     },
     "execution_count": 673,
     "metadata": {},
     "output_type": "execute_result"
    }
   ],
   "source": [
    "# Get a DataFrame of summary statistics that describe the data, including mean, median, standard deviation, etc.\n",
    "# Be sure to include all variables, including categorical ones.\n",
    "\n",
    "online_history.describe()"
   ]
  },
  {
   "cell_type": "code",
   "execution_count": 674,
   "metadata": {},
   "outputs": [],
   "source": [
    "from datetime import timedelta"
   ]
  },
  {
   "cell_type": "code",
   "execution_count": 675,
   "metadata": {},
   "outputs": [
    {
     "data": {
      "text/plain": [
       "373"
      ]
     },
     "execution_count": 675,
     "metadata": {},
     "output_type": "execute_result"
    }
   ],
   "source": [
    "(online_history.InvoiceDate.max() - online_history.InvoiceDate.min()).days"
   ]
  },
  {
   "cell_type": "code",
   "execution_count": 676,
   "metadata": {},
   "outputs": [
    {
     "data": {
      "text/plain": [
       "(datetime.date(2010, 12, 1), datetime.date(2011, 12, 9))"
      ]
     },
     "execution_count": 676,
     "metadata": {},
     "output_type": "execute_result"
    }
   ],
   "source": [
    "online_history.InvoiceDate.min(), online_history.InvoiceDate.max()"
   ]
  },
  {
   "cell_type": "markdown",
   "metadata": {},
   "source": [
    "# Plot a bar chart for the average price per item"
   ]
  },
  {
   "cell_type": "code",
   "execution_count": 677,
   "metadata": {},
   "outputs": [
    {
     "data": {
      "text/html": [
       "<div>\n",
       "<style scoped>\n",
       "    .dataframe tbody tr th:only-of-type {\n",
       "        vertical-align: middle;\n",
       "    }\n",
       "\n",
       "    .dataframe tbody tr th {\n",
       "        vertical-align: top;\n",
       "    }\n",
       "\n",
       "    .dataframe thead th {\n",
       "        text-align: right;\n",
       "    }\n",
       "</style>\n",
       "<table border=\"1\" class=\"dataframe\">\n",
       "  <thead>\n",
       "    <tr style=\"text-align: right;\">\n",
       "      <th></th>\n",
       "      <th>Invoice</th>\n",
       "      <th>StockCode</th>\n",
       "      <th>Quantity</th>\n",
       "      <th>InvoiceDate</th>\n",
       "      <th>Price</th>\n",
       "      <th>CustomerID</th>\n",
       "      <th>Country</th>\n",
       "      <th>TotalAmount</th>\n",
       "      <th>Description</th>\n",
       "    </tr>\n",
       "  </thead>\n",
       "  <tbody>\n",
       "    <tr>\n",
       "      <th>0</th>\n",
       "      <td>536365</td>\n",
       "      <td>85123A</td>\n",
       "      <td>6</td>\n",
       "      <td>2010-12-01</td>\n",
       "      <td>2.55</td>\n",
       "      <td>u1785</td>\n",
       "      <td>United Kingdom</td>\n",
       "      <td>15.30</td>\n",
       "      <td>CREAM HANGING HEART T-LIGHT HOLDER</td>\n",
       "    </tr>\n",
       "    <tr>\n",
       "      <th>1</th>\n",
       "      <td>536367</td>\n",
       "      <td>84879</td>\n",
       "      <td>32</td>\n",
       "      <td>2010-12-01</td>\n",
       "      <td>1.69</td>\n",
       "      <td>u13047</td>\n",
       "      <td>United Kingdom</td>\n",
       "      <td>54.08</td>\n",
       "      <td>ASSORTED COLOUR BIRD ORNAMENT</td>\n",
       "    </tr>\n",
       "    <tr>\n",
       "      <th>2</th>\n",
       "      <td>536373</td>\n",
       "      <td>85123A</td>\n",
       "      <td>6</td>\n",
       "      <td>2010-12-01</td>\n",
       "      <td>2.55</td>\n",
       "      <td>u1785</td>\n",
       "      <td>United Kingdom</td>\n",
       "      <td>15.30</td>\n",
       "      <td>CREAM HANGING HEART T-LIGHT HOLDER</td>\n",
       "    </tr>\n",
       "    <tr>\n",
       "      <th>3</th>\n",
       "      <td>536375</td>\n",
       "      <td>85123A</td>\n",
       "      <td>6</td>\n",
       "      <td>2010-12-01</td>\n",
       "      <td>2.55</td>\n",
       "      <td>u1785</td>\n",
       "      <td>United Kingdom</td>\n",
       "      <td>15.30</td>\n",
       "      <td>CREAM HANGING HEART T-LIGHT HOLDER</td>\n",
       "    </tr>\n",
       "    <tr>\n",
       "      <th>4</th>\n",
       "      <td>536378</td>\n",
       "      <td>20725</td>\n",
       "      <td>10</td>\n",
       "      <td>2010-12-01</td>\n",
       "      <td>1.65</td>\n",
       "      <td>u14688</td>\n",
       "      <td>United Kingdom</td>\n",
       "      <td>16.50</td>\n",
       "      <td>LUNCH BAG RED RETROSPOT</td>\n",
       "    </tr>\n",
       "  </tbody>\n",
       "</table>\n",
       "</div>"
      ],
      "text/plain": [
       "  Invoice StockCode  Quantity InvoiceDate  Price CustomerID         Country  \\\n",
       "0  536365    85123A         6  2010-12-01   2.55      u1785  United Kingdom   \n",
       "1  536367     84879        32  2010-12-01   1.69     u13047  United Kingdom   \n",
       "2  536373    85123A         6  2010-12-01   2.55      u1785  United Kingdom   \n",
       "3  536375    85123A         6  2010-12-01   2.55      u1785  United Kingdom   \n",
       "4  536378     20725        10  2010-12-01   1.65     u14688  United Kingdom   \n",
       "\n",
       "   TotalAmount                         Description  \n",
       "0        15.30  CREAM HANGING HEART T-LIGHT HOLDER  \n",
       "1        54.08       ASSORTED COLOUR BIRD ORNAMENT  \n",
       "2        15.30  CREAM HANGING HEART T-LIGHT HOLDER  \n",
       "3        15.30  CREAM HANGING HEART T-LIGHT HOLDER  \n",
       "4        16.50             LUNCH BAG RED RETROSPOT  "
      ]
     },
     "execution_count": 677,
     "metadata": {},
     "output_type": "execute_result"
    }
   ],
   "source": [
    "online_history.head()"
   ]
  },
  {
   "cell_type": "code",
   "execution_count": 678,
   "metadata": {},
   "outputs": [
    {
     "data": {
      "image/png": "[encoded data removed]",
      "text/plain": [
       "<Figure size 1000x600 with 1 Axes>"
      ]
     },
     "metadata": {},
     "output_type": "display_data"
    }
   ],
   "source": [
    "# Plot the average price per item using a bar chart.\n",
    "# Make sure the average price is on one axis, and each distinct item description is on the other axis.\n",
    "average_price_per_item = online_history.groupby('Description')['Price'].mean()\n",
    "fig1 = plt.figure(figsize=(10,6))\n",
    "average_price_per_item.plot(kind='bar')\n",
    "plt.title(\"Average Price per Item\")\n",
    "plt.xlabel(\"Item\")\n",
    "plt.ylabel(\"Average Price\")\n",
    "plt.xticks(rotation=70)\n",
    "plt.show()"
   ]
  },
  {
   "cell_type": "code",
   "execution_count": 679,
   "metadata": {},
   "outputs": [],
   "source": [
    "# fig1.savefig(\"../plots/average_price_per_item_bar.png\")"
   ]
  },
  {
   "cell_type": "markdown",
   "metadata": {},
   "source": [
    "# Explore the distribution of the numeric variable `Price`"
   ]
  },
  {
   "cell_type": "code",
   "execution_count": 680,
   "metadata": {},
   "outputs": [
    {
     "data": {
      "text/html": [
       "<div>\n",
       "<style scoped>\n",
       "    .dataframe tbody tr th:only-of-type {\n",
       "        vertical-align: middle;\n",
       "    }\n",
       "\n",
       "    .dataframe tbody tr th {\n",
       "        vertical-align: top;\n",
       "    }\n",
       "\n",
       "    .dataframe thead th {\n",
       "        text-align: right;\n",
       "    }\n",
       "</style>\n",
       "<table border=\"1\" class=\"dataframe\">\n",
       "  <thead>\n",
       "    <tr style=\"text-align: right;\">\n",
       "      <th></th>\n",
       "      <th>Quantity</th>\n",
       "      <th>Price</th>\n",
       "      <th>TotalAmount</th>\n",
       "    </tr>\n",
       "  </thead>\n",
       "  <tbody>\n",
       "    <tr>\n",
       "      <th>count</th>\n",
       "      <td>15206.000000</td>\n",
       "      <td>15194.000000</td>\n",
       "      <td>15194.000000</td>\n",
       "    </tr>\n",
       "    <tr>\n",
       "      <th>mean</th>\n",
       "      <td>16.775483</td>\n",
       "      <td>4.164267</td>\n",
       "      <td>40.705153</td>\n",
       "    </tr>\n",
       "    <tr>\n",
       "      <th>std</th>\n",
       "      <td>79.496270</td>\n",
       "      <td>4.377605</td>\n",
       "      <td>132.142503</td>\n",
       "    </tr>\n",
       "    <tr>\n",
       "      <th>min</th>\n",
       "      <td>1.000000</td>\n",
       "      <td>0.400000</td>\n",
       "      <td>0.550000</td>\n",
       "    </tr>\n",
       "    <tr>\n",
       "      <th>25%</th>\n",
       "      <td>2.000000</td>\n",
       "      <td>1.650000</td>\n",
       "      <td>8.850000</td>\n",
       "    </tr>\n",
       "    <tr>\n",
       "      <th>50%</th>\n",
       "      <td>6.000000</td>\n",
       "      <td>2.550000</td>\n",
       "      <td>16.500000</td>\n",
       "    </tr>\n",
       "    <tr>\n",
       "      <th>75%</th>\n",
       "      <td>12.000000</td>\n",
       "      <td>4.950000</td>\n",
       "      <td>30.360000</td>\n",
       "    </tr>\n",
       "    <tr>\n",
       "      <th>max</th>\n",
       "      <td>4300.000000</td>\n",
       "      <td>32.040000</td>\n",
       "      <td>4921.500000</td>\n",
       "    </tr>\n",
       "  </tbody>\n",
       "</table>\n",
       "</div>"
      ],
      "text/plain": [
       "           Quantity         Price   TotalAmount\n",
       "count  15206.000000  15194.000000  15194.000000\n",
       "mean      16.775483      4.164267     40.705153\n",
       "std       79.496270      4.377605    132.142503\n",
       "min        1.000000      0.400000      0.550000\n",
       "25%        2.000000      1.650000      8.850000\n",
       "50%        6.000000      2.550000     16.500000\n",
       "75%       12.000000      4.950000     30.360000\n",
       "max     4300.000000     32.040000   4921.500000"
      ]
     },
     "execution_count": 680,
     "metadata": {},
     "output_type": "execute_result"
    }
   ],
   "source": [
    "# Get a DataFrame of summary statistics for numeric variables only.\n",
    "\n",
    "online_history.describe()"
   ]
  },
  {
   "cell_type": "code",
   "execution_count": 681,
   "metadata": {},
   "outputs": [
    {
     "data": {
      "image/png": "[encoded data removed]",
      "text/plain": [
       "<Figure size 1000x600 with 1 Axes>"
      ]
     },
     "metadata": {},
     "output_type": "display_data"
    }
   ],
   "source": [
    "# Generate a violin plot for the \"Price\" variable.\n",
    "# Decorate and style the plot however you think is best.\n",
    "fig2 = plt.figure(figsize=(10,6))\n",
    "sns.violinplot(data=online_history,x='Price',linewidth=0.9)\n",
    "plt.title(\"Price Density\")\n",
    "plt.show()"
   ]
  },
  {
   "cell_type": "code",
   "execution_count": 682,
   "metadata": {},
   "outputs": [],
   "source": [
    "# fig2.savefig(\"../plots/price_density_violin.png\")"
   ]
  },
  {
   "cell_type": "markdown",
   "metadata": {},
   "source": [
    "# Visualize correlations between numeric variables"
   ]
  },
  {
   "cell_type": "code",
   "execution_count": 683,
   "metadata": {},
   "outputs": [
    {
     "data": {
      "text/html": [
       "<div>\n",
       "<style scoped>\n",
       "    .dataframe tbody tr th:only-of-type {\n",
       "        vertical-align: middle;\n",
       "    }\n",
       "\n",
       "    .dataframe tbody tr th {\n",
       "        vertical-align: top;\n",
       "    }\n",
       "\n",
       "    .dataframe thead th {\n",
       "        text-align: right;\n",
       "    }\n",
       "</style>\n",
       "<table border=\"1\" class=\"dataframe\">\n",
       "  <thead>\n",
       "    <tr style=\"text-align: right;\">\n",
       "      <th></th>\n",
       "      <th>Invoice</th>\n",
       "      <th>StockCode</th>\n",
       "      <th>Quantity</th>\n",
       "      <th>InvoiceDate</th>\n",
       "      <th>Price</th>\n",
       "      <th>CustomerID</th>\n",
       "      <th>Country</th>\n",
       "      <th>TotalAmount</th>\n",
       "      <th>Description</th>\n",
       "    </tr>\n",
       "  </thead>\n",
       "  <tbody>\n",
       "    <tr>\n",
       "      <th>0</th>\n",
       "      <td>536365</td>\n",
       "      <td>85123A</td>\n",
       "      <td>6</td>\n",
       "      <td>2010-12-01</td>\n",
       "      <td>2.55</td>\n",
       "      <td>u1785</td>\n",
       "      <td>United Kingdom</td>\n",
       "      <td>15.30</td>\n",
       "      <td>CREAM HANGING HEART T-LIGHT HOLDER</td>\n",
       "    </tr>\n",
       "    <tr>\n",
       "      <th>1</th>\n",
       "      <td>536367</td>\n",
       "      <td>84879</td>\n",
       "      <td>32</td>\n",
       "      <td>2010-12-01</td>\n",
       "      <td>1.69</td>\n",
       "      <td>u13047</td>\n",
       "      <td>United Kingdom</td>\n",
       "      <td>54.08</td>\n",
       "      <td>ASSORTED COLOUR BIRD ORNAMENT</td>\n",
       "    </tr>\n",
       "    <tr>\n",
       "      <th>2</th>\n",
       "      <td>536373</td>\n",
       "      <td>85123A</td>\n",
       "      <td>6</td>\n",
       "      <td>2010-12-01</td>\n",
       "      <td>2.55</td>\n",
       "      <td>u1785</td>\n",
       "      <td>United Kingdom</td>\n",
       "      <td>15.30</td>\n",
       "      <td>CREAM HANGING HEART T-LIGHT HOLDER</td>\n",
       "    </tr>\n",
       "    <tr>\n",
       "      <th>3</th>\n",
       "      <td>536375</td>\n",
       "      <td>85123A</td>\n",
       "      <td>6</td>\n",
       "      <td>2010-12-01</td>\n",
       "      <td>2.55</td>\n",
       "      <td>u1785</td>\n",
       "      <td>United Kingdom</td>\n",
       "      <td>15.30</td>\n",
       "      <td>CREAM HANGING HEART T-LIGHT HOLDER</td>\n",
       "    </tr>\n",
       "    <tr>\n",
       "      <th>4</th>\n",
       "      <td>536378</td>\n",
       "      <td>20725</td>\n",
       "      <td>10</td>\n",
       "      <td>2010-12-01</td>\n",
       "      <td>1.65</td>\n",
       "      <td>u14688</td>\n",
       "      <td>United Kingdom</td>\n",
       "      <td>16.50</td>\n",
       "      <td>LUNCH BAG RED RETROSPOT</td>\n",
       "    </tr>\n",
       "  </tbody>\n",
       "</table>\n",
       "</div>"
      ],
      "text/plain": [
       "  Invoice StockCode  Quantity InvoiceDate  Price CustomerID         Country  \\\n",
       "0  536365    85123A         6  2010-12-01   2.55      u1785  United Kingdom   \n",
       "1  536367     84879        32  2010-12-01   1.69     u13047  United Kingdom   \n",
       "2  536373    85123A         6  2010-12-01   2.55      u1785  United Kingdom   \n",
       "3  536375    85123A         6  2010-12-01   2.55      u1785  United Kingdom   \n",
       "4  536378     20725        10  2010-12-01   1.65     u14688  United Kingdom   \n",
       "\n",
       "   TotalAmount                         Description  \n",
       "0        15.30  CREAM HANGING HEART T-LIGHT HOLDER  \n",
       "1        54.08       ASSORTED COLOUR BIRD ORNAMENT  \n",
       "2        15.30  CREAM HANGING HEART T-LIGHT HOLDER  \n",
       "3        15.30  CREAM HANGING HEART T-LIGHT HOLDER  \n",
       "4        16.50             LUNCH BAG RED RETROSPOT  "
      ]
     },
     "execution_count": 683,
     "metadata": {},
     "output_type": "execute_result"
    }
   ],
   "source": [
    "online_history.head()"
   ]
  },
  {
   "cell_type": "code",
   "execution_count": 684,
   "metadata": {},
   "outputs": [
    {
     "data": {
      "text/html": [
       "<div>\n",
       "<style scoped>\n",
       "    .dataframe tbody tr th:only-of-type {\n",
       "        vertical-align: middle;\n",
       "    }\n",
       "\n",
       "    .dataframe tbody tr th {\n",
       "        vertical-align: top;\n",
       "    }\n",
       "\n",
       "    .dataframe thead th {\n",
       "        text-align: right;\n",
       "    }\n",
       "</style>\n",
       "<table border=\"1\" class=\"dataframe\">\n",
       "  <thead>\n",
       "    <tr style=\"text-align: right;\">\n",
       "      <th></th>\n",
       "      <th>Quantity</th>\n",
       "      <th>Price</th>\n",
       "      <th>TotalAmount</th>\n",
       "    </tr>\n",
       "  </thead>\n",
       "  <tbody>\n",
       "    <tr>\n",
       "      <th>Quantity</th>\n",
       "      <td>1.000000</td>\n",
       "      <td>0.088356</td>\n",
       "      <td>0.745641</td>\n",
       "    </tr>\n",
       "    <tr>\n",
       "      <th>Price</th>\n",
       "      <td>0.088356</td>\n",
       "      <td>1.000000</td>\n",
       "      <td>0.109054</td>\n",
       "    </tr>\n",
       "    <tr>\n",
       "      <th>TotalAmount</th>\n",
       "      <td>0.745641</td>\n",
       "      <td>0.109054</td>\n",
       "      <td>1.000000</td>\n",
       "    </tr>\n",
       "  </tbody>\n",
       "</table>\n",
       "</div>"
      ],
      "text/plain": [
       "             Quantity     Price  TotalAmount\n",
       "Quantity     1.000000  0.088356     0.745641\n",
       "Price        0.088356  1.000000     0.109054\n",
       "TotalAmount  0.745641  0.109054     1.000000"
      ]
     },
     "execution_count": 684,
     "metadata": {},
     "output_type": "execute_result"
    }
   ],
   "source": [
    "# Generate a correlation matrix between all numeric variables.\n",
    "corr_matrix = online_history.select_dtypes(exclude=\"object\").corr().abs()\n",
    "\n",
    "corr_matrix\n"
   ]
  },
  {
   "cell_type": "code",
   "execution_count": 685,
   "metadata": {},
   "outputs": [
    {
     "data": {
      "image/png": "[encoded data removed]",
      "text/plain": [
       "<Figure size 700x500 with 2 Axes>"
      ]
     },
     "metadata": {},
     "output_type": "display_data"
    }
   ],
   "source": [
    "# Visualize the correlations with a heatmap.\n",
    "fig3, ax = plt.subplots(figsize=(7, 5))\n",
    "cax = ax.matshow(corr_matrix, cmap='viridis')  # Change the colormap to 'viridis'\n",
    "plt.xticks(range(len(corr_matrix.columns)), corr_matrix.columns, rotation=45)\n",
    "plt.yticks(range(len(corr_matrix.columns)), corr_matrix.columns)\n",
    "\n",
    "# Add annotations\n",
    "for i in range(corr_matrix.shape[0]):\n",
    "    for j in range(corr_matrix.shape[1]):\n",
    "        plt.text(j, i, f\"{corr_matrix.iloc[i, j]:.2f}\", ha='center', va='center', color='white')\n",
    "\n",
    "plt.colorbar(cax)\n",
    "plt.title(\"Correlation Matrix with Annotations\")\n",
    "plt.show()"
   ]
  },
  {
   "cell_type": "code",
   "execution_count": 686,
   "metadata": {},
   "outputs": [],
   "source": [
    "# fig3.savefig(\"../plots/online_retail_corr_matrix.png\")"
   ]
  },
  {
   "cell_type": "markdown",
   "metadata": {},
   "source": [
    "# Transform skewed variables"
   ]
  },
  {
   "cell_type": "code",
   "execution_count": 687,
   "metadata": {},
   "outputs": [
    {
     "name": "stderr",
     "output_type": "stream",
     "text": [
      "C:\\Users\\mf_ca\\AppData\\Local\\Temp\\ipykernel_9720\\2832356138.py:10: UserWarning: set_ticklabels() should only be used with a fixed number of ticks, i.e. after set_ticks() or using a FixedLocator.\n",
      "  ax[0, 0].set_xticklabels(np.exp(ax[0, 0].get_xticks()).astype(int))\n",
      "C:\\Users\\mf_ca\\AppData\\Local\\Temp\\ipykernel_9720\\2832356138.py:11: UserWarning: set_ticklabels() should only be used with a fixed number of ticks, i.e. after set_ticks() or using a FixedLocator.\n",
      "  ax[0, 1].set_xticklabels(np.exp(ax[0, 1].get_xticks()).astype(int))\n",
      "C:\\Users\\mf_ca\\AppData\\Local\\Temp\\ipykernel_9720\\2832356138.py:12: UserWarning: set_ticklabels() should only be used with a fixed number of ticks, i.e. after set_ticks() or using a FixedLocator.\n",
      "  ax[1, 0].set_xticklabels(np.exp(ax[1, 0].get_xticks()).astype(int))\n"
     ]
    },
    {
     "data": {
      "image/png": "[encoded data removed]",
      "text/plain": [
       "<Figure size 1000x800 with 3 Axes>"
      ]
     },
     "metadata": {},
     "output_type": "display_data"
    }
   ],
   "source": [
    "# Create subplots\n",
    "fig4, ax = plt.subplots(2, 2, figsize=(10, 8))\n",
    "fig4.suptitle(\"Histograms of Log-Scaled Skewed Variables\",fontsize=25)\n",
    "# Plot histograms of logged values with professional colors\n",
    "ax[0, 0].hist(np.log(online_history['Quantity']), color='#1f77b4')  # blue\n",
    "ax[0, 1].hist(np.log(online_history['Price']), color='#ff7f0e')     # orange\n",
    "ax[1, 0].hist(np.log(online_history['TotalAmount']), color='#2ca02c') # green\n",
    "\n",
    "# Set tick labels to original values\n",
    "ax[0, 0].set_xticklabels(np.exp(ax[0, 0].get_xticks()).astype(int))\n",
    "ax[0, 1].set_xticklabels(np.exp(ax[0, 1].get_xticks()).astype(int))\n",
    "ax[1, 0].set_xticklabels(np.exp(ax[1, 0].get_xticks()).astype(int))\n",
    "\n",
    "# Set titles for each subplot\n",
    "ax[0, 0].set_title('Quantity', fontsize=14)\n",
    "ax[0, 1].set_title('Price', fontsize=14)\n",
    "ax[1, 0].set_title('Total Amount', fontsize=14)\n",
    "\n",
    "# Remove the empty subplot (ax[1, 1]) since you only have three histograms to plot\n",
    "fig4.delaxes(ax[1, 1])\n",
    "\n",
    "# Adjust layout and display plot\n",
    "plt.tight_layout()\n",
    "plt.show()"
   ]
  },
  {
   "cell_type": "code",
   "execution_count": 688,
   "metadata": {},
   "outputs": [],
   "source": [
    "# fig4.savefig(\"../plots/online_history_histograms.png\")"
   ]
  },
  {
   "cell_type": "markdown",
   "metadata": {},
   "source": [
    "# Analyze time series data"
   ]
  },
  {
   "cell_type": "code",
   "execution_count": 689,
   "metadata": {},
   "outputs": [
    {
     "data": {
      "text/html": [
       "<div>\n",
       "<style scoped>\n",
       "    .dataframe tbody tr th:only-of-type {\n",
       "        vertical-align: middle;\n",
       "    }\n",
       "\n",
       "    .dataframe tbody tr th {\n",
       "        vertical-align: top;\n",
       "    }\n",
       "\n",
       "    .dataframe thead th {\n",
       "        text-align: right;\n",
       "    }\n",
       "</style>\n",
       "<table border=\"1\" class=\"dataframe\">\n",
       "  <thead>\n",
       "    <tr style=\"text-align: right;\">\n",
       "      <th></th>\n",
       "      <th>Invoice</th>\n",
       "      <th>StockCode</th>\n",
       "      <th>Quantity</th>\n",
       "      <th>InvoiceDate</th>\n",
       "      <th>Price</th>\n",
       "      <th>CustomerID</th>\n",
       "      <th>Country</th>\n",
       "      <th>TotalAmount</th>\n",
       "      <th>Description</th>\n",
       "    </tr>\n",
       "  </thead>\n",
       "  <tbody>\n",
       "    <tr>\n",
       "      <th>0</th>\n",
       "      <td>536365</td>\n",
       "      <td>85123A</td>\n",
       "      <td>6</td>\n",
       "      <td>2010-12-01</td>\n",
       "      <td>2.55</td>\n",
       "      <td>u1785</td>\n",
       "      <td>United Kingdom</td>\n",
       "      <td>15.30</td>\n",
       "      <td>CREAM HANGING HEART T-LIGHT HOLDER</td>\n",
       "    </tr>\n",
       "    <tr>\n",
       "      <th>1</th>\n",
       "      <td>536367</td>\n",
       "      <td>84879</td>\n",
       "      <td>32</td>\n",
       "      <td>2010-12-01</td>\n",
       "      <td>1.69</td>\n",
       "      <td>u13047</td>\n",
       "      <td>United Kingdom</td>\n",
       "      <td>54.08</td>\n",
       "      <td>ASSORTED COLOUR BIRD ORNAMENT</td>\n",
       "    </tr>\n",
       "    <tr>\n",
       "      <th>2</th>\n",
       "      <td>536373</td>\n",
       "      <td>85123A</td>\n",
       "      <td>6</td>\n",
       "      <td>2010-12-01</td>\n",
       "      <td>2.55</td>\n",
       "      <td>u1785</td>\n",
       "      <td>United Kingdom</td>\n",
       "      <td>15.30</td>\n",
       "      <td>CREAM HANGING HEART T-LIGHT HOLDER</td>\n",
       "    </tr>\n",
       "    <tr>\n",
       "      <th>3</th>\n",
       "      <td>536375</td>\n",
       "      <td>85123A</td>\n",
       "      <td>6</td>\n",
       "      <td>2010-12-01</td>\n",
       "      <td>2.55</td>\n",
       "      <td>u1785</td>\n",
       "      <td>United Kingdom</td>\n",
       "      <td>15.30</td>\n",
       "      <td>CREAM HANGING HEART T-LIGHT HOLDER</td>\n",
       "    </tr>\n",
       "    <tr>\n",
       "      <th>4</th>\n",
       "      <td>536378</td>\n",
       "      <td>20725</td>\n",
       "      <td>10</td>\n",
       "      <td>2010-12-01</td>\n",
       "      <td>1.65</td>\n",
       "      <td>u14688</td>\n",
       "      <td>United Kingdom</td>\n",
       "      <td>16.50</td>\n",
       "      <td>LUNCH BAG RED RETROSPOT</td>\n",
       "    </tr>\n",
       "  </tbody>\n",
       "</table>\n",
       "</div>"
      ],
      "text/plain": [
       "  Invoice StockCode  Quantity InvoiceDate  Price CustomerID         Country  \\\n",
       "0  536365    85123A         6  2010-12-01   2.55      u1785  United Kingdom   \n",
       "1  536367     84879        32  2010-12-01   1.69     u13047  United Kingdom   \n",
       "2  536373    85123A         6  2010-12-01   2.55      u1785  United Kingdom   \n",
       "3  536375    85123A         6  2010-12-01   2.55      u1785  United Kingdom   \n",
       "4  536378     20725        10  2010-12-01   1.65     u14688  United Kingdom   \n",
       "\n",
       "   TotalAmount                         Description  \n",
       "0        15.30  CREAM HANGING HEART T-LIGHT HOLDER  \n",
       "1        54.08       ASSORTED COLOUR BIRD ORNAMENT  \n",
       "2        15.30  CREAM HANGING HEART T-LIGHT HOLDER  \n",
       "3        15.30  CREAM HANGING HEART T-LIGHT HOLDER  \n",
       "4        16.50             LUNCH BAG RED RETROSPOT  "
      ]
     },
     "execution_count": 689,
     "metadata": {},
     "output_type": "execute_result"
    }
   ],
   "source": [
    "online_history.head()"
   ]
  },
  {
   "cell_type": "code",
   "execution_count": 690,
   "metadata": {},
   "outputs": [
    {
     "data": {
      "text/plain": [
       "InvoiceDate\n",
       "1      923\n",
       "2      956\n",
       "3     1345\n",
       "4     1140\n",
       "5     1384\n",
       "6     1203\n",
       "7     1227\n",
       "8     1169\n",
       "9     1378\n",
       "10    1257\n",
       "11    1726\n",
       "12    1498\n",
       "Name: count, dtype: int64"
      ]
     },
     "execution_count": 690,
     "metadata": {},
     "output_type": "execute_result"
    }
   ],
   "source": [
    "# Obtain the number of invoices by month.\n",
    "num_invoices_by_month = pd.to_datetime(online_history.InvoiceDate).dt.month.value_counts().sort_index()\n",
    "\n",
    "\n",
    "# Print the number of invoices by month.\n",
    "num_invoices_by_month\n"
   ]
  },
  {
   "cell_type": "code",
   "execution_count": 691,
   "metadata": {},
   "outputs": [
    {
     "data": {
      "image/png": "[encoded data removed]",
      "text/plain": [
       "<Figure size 700x500 with 1 Axes>"
      ]
     },
     "metadata": {},
     "output_type": "display_data"
    }
   ],
   "source": [
    "# Use a bar chart to plot the number of invoices by month.\n",
    "fig5 = plt.figure(figsize=(7,5))\n",
    "num_invoices_by_month.plot(kind='bar',colormap=\"plasma\")\n",
    "plt.xticks(ticks=list(range(12)),labels = ['Jan', 'Feb', 'Mar', 'Apr', 'May', 'Jun', 'Jul', 'Aug', 'Sep', 'Oct', 'Nov', 'Dec'])\n",
    "plt.title(\"Number of Invoices by Month\")\n",
    "plt.show()"
   ]
  },
  {
   "cell_type": "code",
   "execution_count": 692,
   "metadata": {},
   "outputs": [],
   "source": [
    "# fig5.savefig(\"../plots/number_of_invoices_bar.png\")"
   ]
  },
  {
   "cell_type": "markdown",
   "metadata": {},
   "source": [
    "# Identify and handle missing data"
   ]
  },
  {
   "cell_type": "code",
   "execution_count": 693,
   "metadata": {},
   "outputs": [
    {
     "name": "stdout",
     "output_type": "stream",
     "text": [
      "Percentages of Null Values\n"
     ]
    },
    {
     "data": {
      "text/plain": [
       "Invoice         0.0000\n",
       "StockCode       0.0000\n",
       "Quantity        0.0000\n",
       "InvoiceDate     0.0000\n",
       "Price           0.0789\n",
       "CustomerID     18.2231\n",
       "Country         0.0000\n",
       "TotalAmount     0.0789\n",
       "Description     0.0000\n",
       "dtype: float64"
      ]
     },
     "execution_count": 693,
     "metadata": {},
     "output_type": "execute_result"
    }
   ],
   "source": [
    "# Identify any missing data for all variables.\n",
    "print(\"Percentages of Null Values\")\n",
    "((online_history.isnull().sum()/len(online_history))*100).round(4)\n"
   ]
  },
  {
   "cell_type": "code",
   "execution_count": 694,
   "metadata": {},
   "outputs": [
    {
     "data": {
      "text/plain": [
       "8315"
      ]
     },
     "execution_count": 694,
     "metadata": {},
     "output_type": "execute_result"
    }
   ],
   "source": [
    "online_history.Invoice.nunique()"
   ]
  },
  {
   "cell_type": "code",
   "execution_count": 695,
   "metadata": {},
   "outputs": [
    {
     "data": {
      "text/html": [
       "<div>\n",
       "<style scoped>\n",
       "    .dataframe tbody tr th:only-of-type {\n",
       "        vertical-align: middle;\n",
       "    }\n",
       "\n",
       "    .dataframe tbody tr th {\n",
       "        vertical-align: top;\n",
       "    }\n",
       "\n",
       "    .dataframe thead th {\n",
       "        text-align: right;\n",
       "    }\n",
       "</style>\n",
       "<table border=\"1\" class=\"dataframe\">\n",
       "  <thead>\n",
       "    <tr style=\"text-align: right;\">\n",
       "      <th></th>\n",
       "      <th>Invoice</th>\n",
       "      <th>StockCode</th>\n",
       "      <th>Quantity</th>\n",
       "      <th>InvoiceDate</th>\n",
       "      <th>Price</th>\n",
       "      <th>CustomerID</th>\n",
       "      <th>Country</th>\n",
       "      <th>TotalAmount</th>\n",
       "      <th>Description</th>\n",
       "    </tr>\n",
       "  </thead>\n",
       "  <tbody>\n",
       "    <tr>\n",
       "      <th>1188</th>\n",
       "      <td>539856</td>\n",
       "      <td>85123A</td>\n",
       "      <td>1</td>\n",
       "      <td>2010-12-22</td>\n",
       "      <td>NaN</td>\n",
       "      <td>None</td>\n",
       "      <td>United Kingdom</td>\n",
       "      <td>NaN</td>\n",
       "      <td>CREAM HANGING HEART T-LIGHT HOLDER</td>\n",
       "    </tr>\n",
       "    <tr>\n",
       "      <th>1189</th>\n",
       "      <td>539856</td>\n",
       "      <td>85099B</td>\n",
       "      <td>1</td>\n",
       "      <td>2010-12-22</td>\n",
       "      <td>NaN</td>\n",
       "      <td>None</td>\n",
       "      <td>United Kingdom</td>\n",
       "      <td>NaN</td>\n",
       "      <td>JUMBO BAG RED RETROSPOT</td>\n",
       "    </tr>\n",
       "    <tr>\n",
       "      <th>1520</th>\n",
       "      <td>540832</td>\n",
       "      <td>22423</td>\n",
       "      <td>1</td>\n",
       "      <td>2011-01-11</td>\n",
       "      <td>NaN</td>\n",
       "      <td>None</td>\n",
       "      <td>United Kingdom</td>\n",
       "      <td>NaN</td>\n",
       "      <td>REGENCY CAKESTAND 3 TIER</td>\n",
       "    </tr>\n",
       "    <tr>\n",
       "      <th>4100</th>\n",
       "      <td>546933</td>\n",
       "      <td>85123A</td>\n",
       "      <td>1</td>\n",
       "      <td>2011-03-18</td>\n",
       "      <td>NaN</td>\n",
       "      <td>None</td>\n",
       "      <td>United Kingdom</td>\n",
       "      <td>NaN</td>\n",
       "      <td>CREAM HANGING HEART T-LIGHT HOLDER</td>\n",
       "    </tr>\n",
       "    <tr>\n",
       "      <th>4101</th>\n",
       "      <td>546933</td>\n",
       "      <td>85099B</td>\n",
       "      <td>2</td>\n",
       "      <td>2011-03-18</td>\n",
       "      <td>NaN</td>\n",
       "      <td>None</td>\n",
       "      <td>United Kingdom</td>\n",
       "      <td>NaN</td>\n",
       "      <td>JUMBO BAG RED RETROSPOT</td>\n",
       "    </tr>\n",
       "    <tr>\n",
       "      <th>4914</th>\n",
       "      <td>548694</td>\n",
       "      <td>22720</td>\n",
       "      <td>10</td>\n",
       "      <td>2011-04-01</td>\n",
       "      <td>NaN</td>\n",
       "      <td>None</td>\n",
       "      <td>United Kingdom</td>\n",
       "      <td>NaN</td>\n",
       "      <td>SET OF 3 CAKE TINS PANTRY DESIGN</td>\n",
       "    </tr>\n",
       "    <tr>\n",
       "      <th>6861</th>\n",
       "      <td>553000</td>\n",
       "      <td>47566</td>\n",
       "      <td>4</td>\n",
       "      <td>2011-05-12</td>\n",
       "      <td>NaN</td>\n",
       "      <td>u17667</td>\n",
       "      <td>United Kingdom</td>\n",
       "      <td>NaN</td>\n",
       "      <td>PARTY BUNTING</td>\n",
       "    </tr>\n",
       "    <tr>\n",
       "      <th>7440</th>\n",
       "      <td>554352</td>\n",
       "      <td>22720</td>\n",
       "      <td>4</td>\n",
       "      <td>2011-05-24</td>\n",
       "      <td>NaN</td>\n",
       "      <td>None</td>\n",
       "      <td>United Kingdom</td>\n",
       "      <td>NaN</td>\n",
       "      <td>SET OF 3 CAKE TINS PANTRY DESIGN</td>\n",
       "    </tr>\n",
       "    <tr>\n",
       "      <th>8165</th>\n",
       "      <td>556231</td>\n",
       "      <td>85123A</td>\n",
       "      <td>4000</td>\n",
       "      <td>2011-06-09</td>\n",
       "      <td>NaN</td>\n",
       "      <td>None</td>\n",
       "      <td>United Kingdom</td>\n",
       "      <td>NaN</td>\n",
       "      <td>CREAM HANGING HEART T-LIGHT HOLDER</td>\n",
       "    </tr>\n",
       "    <tr>\n",
       "      <th>8939</th>\n",
       "      <td>558340</td>\n",
       "      <td>85123A</td>\n",
       "      <td>1</td>\n",
       "      <td>2011-06-28</td>\n",
       "      <td>NaN</td>\n",
       "      <td>None</td>\n",
       "      <td>United Kingdom</td>\n",
       "      <td>NaN</td>\n",
       "      <td>CREAM HANGING HEART T-LIGHT HOLDER</td>\n",
       "    </tr>\n",
       "    <tr>\n",
       "      <th>8940</th>\n",
       "      <td>558340</td>\n",
       "      <td>85099B</td>\n",
       "      <td>1</td>\n",
       "      <td>2011-06-28</td>\n",
       "      <td>NaN</td>\n",
       "      <td>None</td>\n",
       "      <td>United Kingdom</td>\n",
       "      <td>NaN</td>\n",
       "      <td>JUMBO BAG RED RETROSPOT</td>\n",
       "    </tr>\n",
       "    <tr>\n",
       "      <th>11475</th>\n",
       "      <td>564530</td>\n",
       "      <td>85123A</td>\n",
       "      <td>1</td>\n",
       "      <td>2011-08-25</td>\n",
       "      <td>NaN</td>\n",
       "      <td>None</td>\n",
       "      <td>United Kingdom</td>\n",
       "      <td>NaN</td>\n",
       "      <td>CREAM HANGING HEART T-LIGHT HOLDER</td>\n",
       "    </tr>\n",
       "  </tbody>\n",
       "</table>\n",
       "</div>"
      ],
      "text/plain": [
       "      Invoice StockCode  Quantity InvoiceDate  Price CustomerID  \\\n",
       "1188   539856    85123A         1  2010-12-22    NaN       None   \n",
       "1189   539856    85099B         1  2010-12-22    NaN       None   \n",
       "1520   540832     22423         1  2011-01-11    NaN       None   \n",
       "4100   546933    85123A         1  2011-03-18    NaN       None   \n",
       "4101   546933    85099B         2  2011-03-18    NaN       None   \n",
       "4914   548694     22720        10  2011-04-01    NaN       None   \n",
       "6861   553000     47566         4  2011-05-12    NaN     u17667   \n",
       "7440   554352     22720         4  2011-05-24    NaN       None   \n",
       "8165   556231    85123A      4000  2011-06-09    NaN       None   \n",
       "8939   558340    85123A         1  2011-06-28    NaN       None   \n",
       "8940   558340    85099B         1  2011-06-28    NaN       None   \n",
       "11475  564530    85123A         1  2011-08-25    NaN       None   \n",
       "\n",
       "              Country  TotalAmount                         Description  \n",
       "1188   United Kingdom          NaN  CREAM HANGING HEART T-LIGHT HOLDER  \n",
       "1189   United Kingdom          NaN             JUMBO BAG RED RETROSPOT  \n",
       "1520   United Kingdom          NaN            REGENCY CAKESTAND 3 TIER  \n",
       "4100   United Kingdom          NaN  CREAM HANGING HEART T-LIGHT HOLDER  \n",
       "4101   United Kingdom          NaN             JUMBO BAG RED RETROSPOT  \n",
       "4914   United Kingdom          NaN   SET OF 3 CAKE TINS PANTRY DESIGN   \n",
       "6861   United Kingdom          NaN                       PARTY BUNTING  \n",
       "7440   United Kingdom          NaN   SET OF 3 CAKE TINS PANTRY DESIGN   \n",
       "8165   United Kingdom          NaN  CREAM HANGING HEART T-LIGHT HOLDER  \n",
       "8939   United Kingdom          NaN  CREAM HANGING HEART T-LIGHT HOLDER  \n",
       "8940   United Kingdom          NaN             JUMBO BAG RED RETROSPOT  \n",
       "11475  United Kingdom          NaN  CREAM HANGING HEART T-LIGHT HOLDER  "
      ]
     },
     "execution_count": 695,
     "metadata": {},
     "output_type": "execute_result"
    }
   ],
   "source": [
    "online_history[online_history.Price.isna()]"
   ]
  },
  {
   "cell_type": "code",
   "execution_count": 696,
   "metadata": {},
   "outputs": [
    {
     "data": {
      "text/html": [
       "<div>\n",
       "<style scoped>\n",
       "    .dataframe tbody tr th:only-of-type {\n",
       "        vertical-align: middle;\n",
       "    }\n",
       "\n",
       "    .dataframe tbody tr th {\n",
       "        vertical-align: top;\n",
       "    }\n",
       "\n",
       "    .dataframe thead th {\n",
       "        text-align: right;\n",
       "    }\n",
       "</style>\n",
       "<table border=\"1\" class=\"dataframe\">\n",
       "  <thead>\n",
       "    <tr style=\"text-align: right;\">\n",
       "      <th></th>\n",
       "      <th>Invoice</th>\n",
       "      <th>StockCode</th>\n",
       "      <th>Quantity</th>\n",
       "      <th>InvoiceDate</th>\n",
       "      <th>Price</th>\n",
       "      <th>CustomerID</th>\n",
       "      <th>Country</th>\n",
       "      <th>TotalAmount</th>\n",
       "      <th>Description</th>\n",
       "    </tr>\n",
       "  </thead>\n",
       "  <tbody>\n",
       "  </tbody>\n",
       "</table>\n",
       "</div>"
      ],
      "text/plain": [
       "Empty DataFrame\n",
       "Columns: [Invoice, StockCode, Quantity, InvoiceDate, Price, CustomerID, Country, TotalAmount, Description]\n",
       "Index: []"
      ]
     },
     "execution_count": 696,
     "metadata": {},
     "output_type": "execute_result"
    }
   ],
   "source": [
    "missing_customer_invoices = online_history[online_history.CustomerID.isna()].Invoice.unique()\n",
    "online_history[(online_history.Invoice.isin(missing_customer_invoices)) & (~online_history.CustomerID.isna())]"
   ]
  },
  {
   "cell_type": "code",
   "execution_count": 697,
   "metadata": {},
   "outputs": [
    {
     "name": "stdout",
     "output_type": "stream",
     "text": [
      "(15206, 9)\n"
     ]
    },
    {
     "data": {
      "text/plain": [
       "(12435, 9)"
      ]
     },
     "execution_count": 697,
     "metadata": {},
     "output_type": "execute_result"
    }
   ],
   "source": [
    "# Print the current shape of the data.\n",
    "print(online_history.shape)\n",
    "\n",
    "\n",
    "# Remove rows of data where \"CustomerID\" is unknown.\n",
    "online_history.drop(online_history[online_history['CustomerID'].isnull()].index,inplace=True)\n",
    "\n",
    "\n",
    "# Print the new shape of the data.\n",
    "online_history.shape\n"
   ]
  },
  {
   "cell_type": "code",
   "execution_count": 698,
   "metadata": {},
   "outputs": [
    {
     "data": {
      "text/html": [
       "<div>\n",
       "<style scoped>\n",
       "    .dataframe tbody tr th:only-of-type {\n",
       "        vertical-align: middle;\n",
       "    }\n",
       "\n",
       "    .dataframe tbody tr th {\n",
       "        vertical-align: top;\n",
       "    }\n",
       "\n",
       "    .dataframe thead th {\n",
       "        text-align: right;\n",
       "    }\n",
       "</style>\n",
       "<table border=\"1\" class=\"dataframe\">\n",
       "  <thead>\n",
       "    <tr style=\"text-align: right;\">\n",
       "      <th></th>\n",
       "      <th>Invoice</th>\n",
       "      <th>StockCode</th>\n",
       "      <th>Quantity</th>\n",
       "      <th>InvoiceDate</th>\n",
       "      <th>Price</th>\n",
       "      <th>CustomerID</th>\n",
       "      <th>Country</th>\n",
       "      <th>TotalAmount</th>\n",
       "      <th>Description</th>\n",
       "    </tr>\n",
       "  </thead>\n",
       "  <tbody>\n",
       "    <tr>\n",
       "      <th>0</th>\n",
       "      <td>536365</td>\n",
       "      <td>85123A</td>\n",
       "      <td>6</td>\n",
       "      <td>2010-12-01</td>\n",
       "      <td>2.55</td>\n",
       "      <td>u1785</td>\n",
       "      <td>United Kingdom</td>\n",
       "      <td>15.30</td>\n",
       "      <td>CREAM HANGING HEART T-LIGHT HOLDER</td>\n",
       "    </tr>\n",
       "    <tr>\n",
       "      <th>1</th>\n",
       "      <td>536367</td>\n",
       "      <td>84879</td>\n",
       "      <td>32</td>\n",
       "      <td>2010-12-01</td>\n",
       "      <td>1.69</td>\n",
       "      <td>u13047</td>\n",
       "      <td>United Kingdom</td>\n",
       "      <td>54.08</td>\n",
       "      <td>ASSORTED COLOUR BIRD ORNAMENT</td>\n",
       "    </tr>\n",
       "    <tr>\n",
       "      <th>2</th>\n",
       "      <td>536373</td>\n",
       "      <td>85123A</td>\n",
       "      <td>6</td>\n",
       "      <td>2010-12-01</td>\n",
       "      <td>2.55</td>\n",
       "      <td>u1785</td>\n",
       "      <td>United Kingdom</td>\n",
       "      <td>15.30</td>\n",
       "      <td>CREAM HANGING HEART T-LIGHT HOLDER</td>\n",
       "    </tr>\n",
       "    <tr>\n",
       "      <th>3</th>\n",
       "      <td>536375</td>\n",
       "      <td>85123A</td>\n",
       "      <td>6</td>\n",
       "      <td>2010-12-01</td>\n",
       "      <td>2.55</td>\n",
       "      <td>u1785</td>\n",
       "      <td>United Kingdom</td>\n",
       "      <td>15.30</td>\n",
       "      <td>CREAM HANGING HEART T-LIGHT HOLDER</td>\n",
       "    </tr>\n",
       "    <tr>\n",
       "      <th>4</th>\n",
       "      <td>536378</td>\n",
       "      <td>20725</td>\n",
       "      <td>10</td>\n",
       "      <td>2010-12-01</td>\n",
       "      <td>1.65</td>\n",
       "      <td>u14688</td>\n",
       "      <td>United Kingdom</td>\n",
       "      <td>16.50</td>\n",
       "      <td>LUNCH BAG RED RETROSPOT</td>\n",
       "    </tr>\n",
       "  </tbody>\n",
       "</table>\n",
       "</div>"
      ],
      "text/plain": [
       "  Invoice StockCode  Quantity InvoiceDate  Price CustomerID         Country  \\\n",
       "0  536365    85123A         6  2010-12-01   2.55      u1785  United Kingdom   \n",
       "1  536367     84879        32  2010-12-01   1.69     u13047  United Kingdom   \n",
       "2  536373    85123A         6  2010-12-01   2.55      u1785  United Kingdom   \n",
       "3  536375    85123A         6  2010-12-01   2.55      u1785  United Kingdom   \n",
       "4  536378     20725        10  2010-12-01   1.65     u14688  United Kingdom   \n",
       "\n",
       "   TotalAmount                         Description  \n",
       "0        15.30  CREAM HANGING HEART T-LIGHT HOLDER  \n",
       "1        54.08       ASSORTED COLOUR BIRD ORNAMENT  \n",
       "2        15.30  CREAM HANGING HEART T-LIGHT HOLDER  \n",
       "3        15.30  CREAM HANGING HEART T-LIGHT HOLDER  \n",
       "4        16.50             LUNCH BAG RED RETROSPOT  "
      ]
     },
     "execution_count": 698,
     "metadata": {},
     "output_type": "execute_result"
    }
   ],
   "source": [
    "online_history.head()"
   ]
  },
  {
   "cell_type": "code",
   "execution_count": 699,
   "metadata": {},
   "outputs": [
    {
     "name": "stderr",
     "output_type": "stream",
     "text": [
      "C:\\Users\\mf_ca\\AppData\\Local\\Temp\\ipykernel_9720\\1226360739.py:2: FutureWarning: A value is trying to be set on a copy of a DataFrame or Series through chained assignment using an inplace method.\n",
      "The behavior will change in pandas 3.0. This inplace method will never work because the intermediate object on which we are setting values always behaves as a copy.\n",
      "\n",
      "For example, when doing 'df[col].method(value, inplace=True)', try using 'df.method({col: value}, inplace=True)' or df[col] = df[col].method(value) instead, to perform the operation inplace on the original object.\n",
      "\n",
      "\n",
      "  online_history.Price.fillna(0,inplace=True)\n",
      "C:\\Users\\mf_ca\\AppData\\Local\\Temp\\ipykernel_9720\\1226360739.py:3: FutureWarning: A value is trying to be set on a copy of a DataFrame or Series through chained assignment using an inplace method.\n",
      "The behavior will change in pandas 3.0. This inplace method will never work because the intermediate object on which we are setting values always behaves as a copy.\n",
      "\n",
      "For example, when doing 'df[col].method(value, inplace=True)', try using 'df.method({col: value}, inplace=True)' or df[col] = df[col].method(value) instead, to perform the operation inplace on the original object.\n",
      "\n",
      "\n",
      "  online_history.TotalAmount.fillna(0,inplace=True)\n"
     ]
    },
    {
     "data": {
      "text/plain": [
       "0"
      ]
     },
     "execution_count": 699,
     "metadata": {},
     "output_type": "execute_result"
    }
   ],
   "source": [
    "# Fill in N/A values for \"Price\" and \"TotalAmount\" with 0.\n",
    "online_history.Price.fillna(0,inplace=True)\n",
    "online_history.TotalAmount.fillna(0,inplace=True)\n",
    "\n",
    "\n",
    "\n",
    "# Confirm there are no longer any missing values.\n",
    "online_history.isnull().any().sum()\n"
   ]
  },
  {
   "cell_type": "markdown",
   "metadata": {},
   "source": [
    "# One-hot encode the `Description` variable"
   ]
  },
  {
   "cell_type": "code",
   "execution_count": 700,
   "metadata": {},
   "outputs": [
    {
     "data": {
      "text/html": [
       "<div>\n",
       "<style scoped>\n",
       "    .dataframe tbody tr th:only-of-type {\n",
       "        vertical-align: middle;\n",
       "    }\n",
       "\n",
       "    .dataframe tbody tr th {\n",
       "        vertical-align: top;\n",
       "    }\n",
       "\n",
       "    .dataframe thead th {\n",
       "        text-align: right;\n",
       "    }\n",
       "</style>\n",
       "<table border=\"1\" class=\"dataframe\">\n",
       "  <thead>\n",
       "    <tr style=\"text-align: right;\">\n",
       "      <th></th>\n",
       "      <th>Invoice</th>\n",
       "      <th>StockCode</th>\n",
       "      <th>Quantity</th>\n",
       "      <th>InvoiceDate</th>\n",
       "      <th>Price</th>\n",
       "      <th>CustomerID</th>\n",
       "      <th>Country</th>\n",
       "      <th>TotalAmount</th>\n",
       "      <th>Description</th>\n",
       "    </tr>\n",
       "  </thead>\n",
       "  <tbody>\n",
       "    <tr>\n",
       "      <th>0</th>\n",
       "      <td>536365</td>\n",
       "      <td>85123A</td>\n",
       "      <td>6</td>\n",
       "      <td>2010-12-01</td>\n",
       "      <td>2.55</td>\n",
       "      <td>u1785</td>\n",
       "      <td>United Kingdom</td>\n",
       "      <td>15.30</td>\n",
       "      <td>CREAM HANGING HEART T-LIGHT HOLDER</td>\n",
       "    </tr>\n",
       "    <tr>\n",
       "      <th>1</th>\n",
       "      <td>536367</td>\n",
       "      <td>84879</td>\n",
       "      <td>32</td>\n",
       "      <td>2010-12-01</td>\n",
       "      <td>1.69</td>\n",
       "      <td>u13047</td>\n",
       "      <td>United Kingdom</td>\n",
       "      <td>54.08</td>\n",
       "      <td>ASSORTED COLOUR BIRD ORNAMENT</td>\n",
       "    </tr>\n",
       "    <tr>\n",
       "      <th>2</th>\n",
       "      <td>536373</td>\n",
       "      <td>85123A</td>\n",
       "      <td>6</td>\n",
       "      <td>2010-12-01</td>\n",
       "      <td>2.55</td>\n",
       "      <td>u1785</td>\n",
       "      <td>United Kingdom</td>\n",
       "      <td>15.30</td>\n",
       "      <td>CREAM HANGING HEART T-LIGHT HOLDER</td>\n",
       "    </tr>\n",
       "    <tr>\n",
       "      <th>3</th>\n",
       "      <td>536375</td>\n",
       "      <td>85123A</td>\n",
       "      <td>6</td>\n",
       "      <td>2010-12-01</td>\n",
       "      <td>2.55</td>\n",
       "      <td>u1785</td>\n",
       "      <td>United Kingdom</td>\n",
       "      <td>15.30</td>\n",
       "      <td>CREAM HANGING HEART T-LIGHT HOLDER</td>\n",
       "    </tr>\n",
       "    <tr>\n",
       "      <th>4</th>\n",
       "      <td>536378</td>\n",
       "      <td>20725</td>\n",
       "      <td>10</td>\n",
       "      <td>2010-12-01</td>\n",
       "      <td>1.65</td>\n",
       "      <td>u14688</td>\n",
       "      <td>United Kingdom</td>\n",
       "      <td>16.50</td>\n",
       "      <td>LUNCH BAG RED RETROSPOT</td>\n",
       "    </tr>\n",
       "  </tbody>\n",
       "</table>\n",
       "</div>"
      ],
      "text/plain": [
       "  Invoice StockCode  Quantity InvoiceDate  Price CustomerID         Country  \\\n",
       "0  536365    85123A         6  2010-12-01   2.55      u1785  United Kingdom   \n",
       "1  536367     84879        32  2010-12-01   1.69     u13047  United Kingdom   \n",
       "2  536373    85123A         6  2010-12-01   2.55      u1785  United Kingdom   \n",
       "3  536375    85123A         6  2010-12-01   2.55      u1785  United Kingdom   \n",
       "4  536378     20725        10  2010-12-01   1.65     u14688  United Kingdom   \n",
       "\n",
       "   TotalAmount                         Description  \n",
       "0        15.30  CREAM HANGING HEART T-LIGHT HOLDER  \n",
       "1        54.08       ASSORTED COLOUR BIRD ORNAMENT  \n",
       "2        15.30  CREAM HANGING HEART T-LIGHT HOLDER  \n",
       "3        15.30  CREAM HANGING HEART T-LIGHT HOLDER  \n",
       "4        16.50             LUNCH BAG RED RETROSPOT  "
      ]
     },
     "execution_count": 700,
     "metadata": {},
     "output_type": "execute_result"
    }
   ],
   "source": [
    "online_history.head()"
   ]
  },
  {
   "cell_type": "code",
   "execution_count": 701,
   "metadata": {},
   "outputs": [
    {
     "data": {
      "text/html": [
       "<div>\n",
       "<style scoped>\n",
       "    .dataframe tbody tr th:only-of-type {\n",
       "        vertical-align: middle;\n",
       "    }\n",
       "\n",
       "    .dataframe tbody tr th {\n",
       "        vertical-align: top;\n",
       "    }\n",
       "\n",
       "    .dataframe thead th {\n",
       "        text-align: right;\n",
       "    }\n",
       "</style>\n",
       "<table border=\"1\" class=\"dataframe\">\n",
       "  <thead>\n",
       "    <tr style=\"text-align: right;\">\n",
       "      <th></th>\n",
       "      <th>Description_ASSORTED COLOUR BIRD ORNAMENT</th>\n",
       "      <th>Description_CREAM HANGING HEART T-LIGHT HOLDER</th>\n",
       "      <th>Description_JUMBO BAG RED RETROSPOT</th>\n",
       "      <th>Description_LUNCH BAG  BLACK SKULL.</th>\n",
       "      <th>Description_LUNCH BAG RED RETROSPOT</th>\n",
       "      <th>Description_PACK OF 72 RETROSPOT CAKE CASES</th>\n",
       "      <th>Description_PARTY BUNTING</th>\n",
       "      <th>Description_POPCORN HOLDER</th>\n",
       "      <th>Description_REGENCY CAKESTAND 3 TIER</th>\n",
       "      <th>Description_SET OF 3 CAKE TINS PANTRY DESIGN</th>\n",
       "    </tr>\n",
       "  </thead>\n",
       "  <tbody>\n",
       "    <tr>\n",
       "      <th>0</th>\n",
       "      <td>False</td>\n",
       "      <td>True</td>\n",
       "      <td>False</td>\n",
       "      <td>False</td>\n",
       "      <td>False</td>\n",
       "      <td>False</td>\n",
       "      <td>False</td>\n",
       "      <td>False</td>\n",
       "      <td>False</td>\n",
       "      <td>False</td>\n",
       "    </tr>\n",
       "    <tr>\n",
       "      <th>1</th>\n",
       "      <td>True</td>\n",
       "      <td>False</td>\n",
       "      <td>False</td>\n",
       "      <td>False</td>\n",
       "      <td>False</td>\n",
       "      <td>False</td>\n",
       "      <td>False</td>\n",
       "      <td>False</td>\n",
       "      <td>False</td>\n",
       "      <td>False</td>\n",
       "    </tr>\n",
       "    <tr>\n",
       "      <th>2</th>\n",
       "      <td>False</td>\n",
       "      <td>True</td>\n",
       "      <td>False</td>\n",
       "      <td>False</td>\n",
       "      <td>False</td>\n",
       "      <td>False</td>\n",
       "      <td>False</td>\n",
       "      <td>False</td>\n",
       "      <td>False</td>\n",
       "      <td>False</td>\n",
       "    </tr>\n",
       "    <tr>\n",
       "      <th>3</th>\n",
       "      <td>False</td>\n",
       "      <td>True</td>\n",
       "      <td>False</td>\n",
       "      <td>False</td>\n",
       "      <td>False</td>\n",
       "      <td>False</td>\n",
       "      <td>False</td>\n",
       "      <td>False</td>\n",
       "      <td>False</td>\n",
       "      <td>False</td>\n",
       "    </tr>\n",
       "    <tr>\n",
       "      <th>4</th>\n",
       "      <td>False</td>\n",
       "      <td>False</td>\n",
       "      <td>False</td>\n",
       "      <td>False</td>\n",
       "      <td>True</td>\n",
       "      <td>False</td>\n",
       "      <td>False</td>\n",
       "      <td>False</td>\n",
       "      <td>False</td>\n",
       "      <td>False</td>\n",
       "    </tr>\n",
       "  </tbody>\n",
       "</table>\n",
       "</div>"
      ],
      "text/plain": [
       "   Description_ASSORTED COLOUR BIRD ORNAMENT  \\\n",
       "0                                      False   \n",
       "1                                       True   \n",
       "2                                      False   \n",
       "3                                      False   \n",
       "4                                      False   \n",
       "\n",
       "   Description_CREAM HANGING HEART T-LIGHT HOLDER  \\\n",
       "0                                            True   \n",
       "1                                           False   \n",
       "2                                            True   \n",
       "3                                            True   \n",
       "4                                           False   \n",
       "\n",
       "   Description_JUMBO BAG RED RETROSPOT  Description_LUNCH BAG  BLACK SKULL.  \\\n",
       "0                                False                                False   \n",
       "1                                False                                False   \n",
       "2                                False                                False   \n",
       "3                                False                                False   \n",
       "4                                False                                False   \n",
       "\n",
       "   Description_LUNCH BAG RED RETROSPOT  \\\n",
       "0                                False   \n",
       "1                                False   \n",
       "2                                False   \n",
       "3                                False   \n",
       "4                                 True   \n",
       "\n",
       "   Description_PACK OF 72 RETROSPOT CAKE CASES  Description_PARTY BUNTING  \\\n",
       "0                                        False                      False   \n",
       "1                                        False                      False   \n",
       "2                                        False                      False   \n",
       "3                                        False                      False   \n",
       "4                                        False                      False   \n",
       "\n",
       "   Description_POPCORN HOLDER  Description_REGENCY CAKESTAND 3 TIER  \\\n",
       "0                       False                                 False   \n",
       "1                       False                                 False   \n",
       "2                       False                                 False   \n",
       "3                       False                                 False   \n",
       "4                       False                                 False   \n",
       "\n",
       "   Description_SET OF 3 CAKE TINS PANTRY DESIGN   \n",
       "0                                          False  \n",
       "1                                          False  \n",
       "2                                          False  \n",
       "3                                          False  \n",
       "4                                          False  "
      ]
     },
     "execution_count": 701,
     "metadata": {},
     "output_type": "execute_result"
    }
   ],
   "source": [
    "# One-hot encode the \"Description\" variable with dummy variables for each unique description.\n",
    "# Prefix each dummy variable name with \"Description\".\n",
    "description_encoded = pd.get_dummies(online_history.Description,prefix='Description')\n",
    "\n",
    "\n",
    "# Preview the first five rows of the DataFrame.\n",
    "description_encoded.head()\n"
   ]
  },
  {
   "cell_type": "code",
   "execution_count": 702,
   "metadata": {},
   "outputs": [],
   "source": [
    "# Concatenate the new encoded columns with the main DataFrame.\n",
    "online_history = pd.concat([online_history,description_encoded],axis=1)\n",
    "\n",
    "\n",
    "# Drop the original \"Description\" variable.\n",
    "online_history.drop(['Description'],axis=1,inplace=True)\n"
   ]
  },
  {
   "cell_type": "code",
   "execution_count": 703,
   "metadata": {},
   "outputs": [],
   "source": [
    "encoded_columns = online_history.select_dtypes(include=\"bool\").columns"
   ]
  },
  {
   "cell_type": "code",
   "execution_count": 704,
   "metadata": {},
   "outputs": [],
   "source": [
    "online_history[encoded_columns] = online_history[encoded_columns].astype('float64')"
   ]
  },
  {
   "cell_type": "code",
   "execution_count": 705,
   "metadata": {},
   "outputs": [
    {
     "data": {
      "text/plain": [
       "Invoice                                            object\n",
       "StockCode                                          object\n",
       "Quantity                                            int64\n",
       "InvoiceDate                                        object\n",
       "Price                                             float64\n",
       "CustomerID                                         object\n",
       "Country                                            object\n",
       "TotalAmount                                       float64\n",
       "Description_ASSORTED COLOUR BIRD ORNAMENT         float64\n",
       "Description_CREAM HANGING HEART T-LIGHT HOLDER    float64\n",
       "Description_JUMBO BAG RED RETROSPOT               float64\n",
       "Description_LUNCH BAG  BLACK SKULL.               float64\n",
       "Description_LUNCH BAG RED RETROSPOT               float64\n",
       "Description_PACK OF 72 RETROSPOT CAKE CASES       float64\n",
       "Description_PARTY BUNTING                         float64\n",
       "Description_POPCORN HOLDER                        float64\n",
       "Description_REGENCY CAKESTAND 3 TIER              float64\n",
       "Description_SET OF 3 CAKE TINS PANTRY DESIGN      float64\n",
       "dtype: object"
      ]
     },
     "execution_count": 705,
     "metadata": {},
     "output_type": "execute_result"
    }
   ],
   "source": [
    "# Preview the first five rows of the data.\n",
    "\n",
    "online_history.dtypes"
   ]
  },
  {
   "cell_type": "markdown",
   "metadata": {},
   "source": [
    "# Drop Categorical Features"
   ]
  },
  {
   "cell_type": "code",
   "execution_count": 706,
   "metadata": {},
   "outputs": [],
   "source": [
    "online_history_numeric = online_history.drop([\"Invoice\",\"StockCode\",\"InvoiceDate\",\"Country\",\"CustomerID\"],axis=1)"
   ]
  },
  {
   "cell_type": "code",
   "execution_count": 707,
   "metadata": {},
   "outputs": [],
   "source": [
    "numeric_columns = online_history.select_dtypes(exclude=\"object\").columns"
   ]
  },
  {
   "cell_type": "code",
   "execution_count": 708,
   "metadata": {},
   "outputs": [],
   "source": [
    "from scipy.stats import mode"
   ]
  },
  {
   "cell_type": "code",
   "execution_count": 709,
   "metadata": {},
   "outputs": [],
   "source": [
    "# mean_columns = numeric_columns[:3]\n",
    "# mode_columns = numeric_columns[3:]\n",
    "# agg_funcs = {col: 'mean' for col in mean_columns}\n",
    "# agg_funcs.update({col: lambda x: mode(x)[0] for col in mode_columns})"
   ]
  },
  {
   "cell_type": "code",
   "execution_count": 710,
   "metadata": {},
   "outputs": [
    {
     "data": {
      "text/html": [
       "<div>\n",
       "<style scoped>\n",
       "    .dataframe tbody tr th:only-of-type {\n",
       "        vertical-align: middle;\n",
       "    }\n",
       "\n",
       "    .dataframe tbody tr th {\n",
       "        vertical-align: top;\n",
       "    }\n",
       "\n",
       "    .dataframe thead th {\n",
       "        text-align: right;\n",
       "    }\n",
       "</style>\n",
       "<table border=\"1\" class=\"dataframe\">\n",
       "  <thead>\n",
       "    <tr style=\"text-align: right;\">\n",
       "      <th></th>\n",
       "      <th>Quantity</th>\n",
       "      <th>Price</th>\n",
       "      <th>TotalAmount</th>\n",
       "      <th>Description_ASSORTED COLOUR BIRD ORNAMENT</th>\n",
       "      <th>Description_CREAM HANGING HEART T-LIGHT HOLDER</th>\n",
       "      <th>Description_JUMBO BAG RED RETROSPOT</th>\n",
       "      <th>Description_LUNCH BAG  BLACK SKULL.</th>\n",
       "      <th>Description_LUNCH BAG RED RETROSPOT</th>\n",
       "      <th>Description_PACK OF 72 RETROSPOT CAKE CASES</th>\n",
       "      <th>Description_PARTY BUNTING</th>\n",
       "      <th>Description_POPCORN HOLDER</th>\n",
       "      <th>Description_REGENCY CAKESTAND 3 TIER</th>\n",
       "      <th>Description_SET OF 3 CAKE TINS PANTRY DESIGN</th>\n",
       "    </tr>\n",
       "    <tr>\n",
       "      <th>CustomerID</th>\n",
       "      <th></th>\n",
       "      <th></th>\n",
       "      <th></th>\n",
       "      <th></th>\n",
       "      <th></th>\n",
       "      <th></th>\n",
       "      <th></th>\n",
       "      <th></th>\n",
       "      <th></th>\n",
       "      <th></th>\n",
       "      <th></th>\n",
       "      <th></th>\n",
       "      <th></th>\n",
       "    </tr>\n",
       "  </thead>\n",
       "  <tbody>\n",
       "    <tr>\n",
       "      <th>u12747</th>\n",
       "      <td>13.636364</td>\n",
       "      <td>2.183636</td>\n",
       "      <td>27.523636</td>\n",
       "      <td>0.545455</td>\n",
       "      <td>0.363636</td>\n",
       "      <td>0.090909</td>\n",
       "      <td>0.000000</td>\n",
       "      <td>0.000000</td>\n",
       "      <td>0.000000</td>\n",
       "      <td>0.000000</td>\n",
       "      <td>0.000000</td>\n",
       "      <td>0.000000</td>\n",
       "      <td>0.000000</td>\n",
       "    </tr>\n",
       "    <tr>\n",
       "      <th>u12748</th>\n",
       "      <td>4.368421</td>\n",
       "      <td>2.835895</td>\n",
       "      <td>8.244105</td>\n",
       "      <td>0.052632</td>\n",
       "      <td>0.073684</td>\n",
       "      <td>0.126316</td>\n",
       "      <td>0.147368</td>\n",
       "      <td>0.084211</td>\n",
       "      <td>0.063158</td>\n",
       "      <td>0.105263</td>\n",
       "      <td>0.231579</td>\n",
       "      <td>0.073684</td>\n",
       "      <td>0.042105</td>\n",
       "    </tr>\n",
       "    <tr>\n",
       "      <th>u12749</th>\n",
       "      <td>5.666667</td>\n",
       "      <td>7.006667</td>\n",
       "      <td>41.903333</td>\n",
       "      <td>0.166667</td>\n",
       "      <td>0.000000</td>\n",
       "      <td>0.000000</td>\n",
       "      <td>0.000000</td>\n",
       "      <td>0.000000</td>\n",
       "      <td>0.000000</td>\n",
       "      <td>0.000000</td>\n",
       "      <td>0.000000</td>\n",
       "      <td>0.333333</td>\n",
       "      <td>0.500000</td>\n",
       "    </tr>\n",
       "    <tr>\n",
       "      <th>u1282</th>\n",
       "      <td>6.000000</td>\n",
       "      <td>2.950000</td>\n",
       "      <td>17.700000</td>\n",
       "      <td>0.000000</td>\n",
       "      <td>1.000000</td>\n",
       "      <td>0.000000</td>\n",
       "      <td>0.000000</td>\n",
       "      <td>0.000000</td>\n",
       "      <td>0.000000</td>\n",
       "      <td>0.000000</td>\n",
       "      <td>0.000000</td>\n",
       "      <td>0.000000</td>\n",
       "      <td>0.000000</td>\n",
       "    </tr>\n",
       "    <tr>\n",
       "      <th>u12822</th>\n",
       "      <td>10.000000</td>\n",
       "      <td>1.650000</td>\n",
       "      <td>16.500000</td>\n",
       "      <td>0.000000</td>\n",
       "      <td>0.000000</td>\n",
       "      <td>0.000000</td>\n",
       "      <td>0.000000</td>\n",
       "      <td>1.000000</td>\n",
       "      <td>0.000000</td>\n",
       "      <td>0.000000</td>\n",
       "      <td>0.000000</td>\n",
       "      <td>0.000000</td>\n",
       "      <td>0.000000</td>\n",
       "    </tr>\n",
       "  </tbody>\n",
       "</table>\n",
       "</div>"
      ],
      "text/plain": [
       "             Quantity     Price  TotalAmount  \\\n",
       "CustomerID                                     \n",
       "u12747      13.636364  2.183636    27.523636   \n",
       "u12748       4.368421  2.835895     8.244105   \n",
       "u12749       5.666667  7.006667    41.903333   \n",
       "u1282        6.000000  2.950000    17.700000   \n",
       "u12822      10.000000  1.650000    16.500000   \n",
       "\n",
       "            Description_ASSORTED COLOUR BIRD ORNAMENT  \\\n",
       "CustomerID                                              \n",
       "u12747                                       0.545455   \n",
       "u12748                                       0.052632   \n",
       "u12749                                       0.166667   \n",
       "u1282                                        0.000000   \n",
       "u12822                                       0.000000   \n",
       "\n",
       "            Description_CREAM HANGING HEART T-LIGHT HOLDER  \\\n",
       "CustomerID                                                   \n",
       "u12747                                            0.363636   \n",
       "u12748                                            0.073684   \n",
       "u12749                                            0.000000   \n",
       "u1282                                             1.000000   \n",
       "u12822                                            0.000000   \n",
       "\n",
       "            Description_JUMBO BAG RED RETROSPOT  \\\n",
       "CustomerID                                        \n",
       "u12747                                 0.090909   \n",
       "u12748                                 0.126316   \n",
       "u12749                                 0.000000   \n",
       "u1282                                  0.000000   \n",
       "u12822                                 0.000000   \n",
       "\n",
       "            Description_LUNCH BAG  BLACK SKULL.  \\\n",
       "CustomerID                                        \n",
       "u12747                                 0.000000   \n",
       "u12748                                 0.147368   \n",
       "u12749                                 0.000000   \n",
       "u1282                                  0.000000   \n",
       "u12822                                 0.000000   \n",
       "\n",
       "            Description_LUNCH BAG RED RETROSPOT  \\\n",
       "CustomerID                                        \n",
       "u12747                                 0.000000   \n",
       "u12748                                 0.084211   \n",
       "u12749                                 0.000000   \n",
       "u1282                                  0.000000   \n",
       "u12822                                 1.000000   \n",
       "\n",
       "            Description_PACK OF 72 RETROSPOT CAKE CASES  \\\n",
       "CustomerID                                                \n",
       "u12747                                         0.000000   \n",
       "u12748                                         0.063158   \n",
       "u12749                                         0.000000   \n",
       "u1282                                          0.000000   \n",
       "u12822                                         0.000000   \n",
       "\n",
       "            Description_PARTY BUNTING  Description_POPCORN HOLDER  \\\n",
       "CustomerID                                                          \n",
       "u12747                       0.000000                    0.000000   \n",
       "u12748                       0.105263                    0.231579   \n",
       "u12749                       0.000000                    0.000000   \n",
       "u1282                        0.000000                    0.000000   \n",
       "u12822                       0.000000                    0.000000   \n",
       "\n",
       "            Description_REGENCY CAKESTAND 3 TIER  \\\n",
       "CustomerID                                         \n",
       "u12747                                  0.000000   \n",
       "u12748                                  0.073684   \n",
       "u12749                                  0.333333   \n",
       "u1282                                   0.000000   \n",
       "u12822                                  0.000000   \n",
       "\n",
       "            Description_SET OF 3 CAKE TINS PANTRY DESIGN   \n",
       "CustomerID                                                 \n",
       "u12747                                           0.000000  \n",
       "u12748                                           0.042105  \n",
       "u12749                                           0.500000  \n",
       "u1282                                            0.000000  \n",
       "u12822                                           0.000000  "
      ]
     },
     "execution_count": 710,
     "metadata": {},
     "output_type": "execute_result"
    }
   ],
   "source": [
    "online_history_numeric_ml = online_history.drop([\"Invoice\",\"StockCode\",\"InvoiceDate\",\"Country\"],axis=1).groupby(\"CustomerID\")[numeric_columns].mean()\n",
    "online_history_numeric_ml.head()"
   ]
  },
  {
   "cell_type": "markdown",
   "metadata": {},
   "source": [
    "# Identify and remove columns with low variance"
   ]
  },
  {
   "cell_type": "code",
   "execution_count": 711,
   "metadata": {},
   "outputs": [
    {
     "data": {
      "text/plain": [
       "Quantity                                           77.436253\n",
       "Price                                               3.506381\n",
       "TotalAmount                                       132.092738\n",
       "Description_ASSORTED COLOUR BIRD ORNAMENT           0.308044\n",
       "Description_CREAM HANGING HEART T-LIGHT HOLDER      0.362575\n",
       "Description_JUMBO BAG RED RETROSPOT                 0.322017\n",
       "Description_LUNCH BAG  BLACK SKULL.                 0.274661\n",
       "Description_LUNCH BAG RED RETROSPOT                 0.288011\n",
       "Description_PACK OF 72 RETROSPOT CAKE CASES         0.254417\n",
       "Description_PARTY BUNTING                           0.306081\n",
       "Description_POPCORN HOLDER                          0.267557\n",
       "Description_REGENCY CAKESTAND 3 TIER                0.317766\n",
       "Description_SET OF 3 CAKE TINS PANTRY DESIGN        0.273557\n",
       "dtype: float64"
      ]
     },
     "execution_count": 711,
     "metadata": {},
     "output_type": "execute_result"
    }
   ],
   "source": [
    "# Obtain the standard deviation of each variable.\n",
    "online_history_numeric.std()"
   ]
  },
  {
   "cell_type": "code",
   "execution_count": 712,
   "metadata": {},
   "outputs": [
    {
     "data": {
      "text/plain": [
       "['Description_PACK OF 72 RETROSPOT CAKE CASES']"
      ]
     },
     "execution_count": 712,
     "metadata": {},
     "output_type": "execute_result"
    }
   ],
   "source": [
    "# Define a standard deviation threshold of 0.26.\n",
    "threshold = 0.26\n",
    "\n",
    "\n",
    "# Identify any columns that are lower than the threshold.\n",
    "\n",
    "cols_to_drop = list(online_history_numeric.std()[online_history_numeric.std()<threshold].index)\n",
    "#cols_to_drop_ml = list(online_history_numeric_ml.std()[online_history_numeric_ml.std()<threshold].index)\n",
    "\n",
    "# Print the column(s) that will be dropped.\n",
    "\n",
    "cols_to_drop#,cols_to_drop_ml"
   ]
  },
  {
   "cell_type": "code",
   "execution_count": 713,
   "metadata": {},
   "outputs": [
    {
     "data": {
      "text/plain": [
       "0.25441716381301605"
      ]
     },
     "execution_count": 713,
     "metadata": {},
     "output_type": "execute_result"
    }
   ],
   "source": [
    "online_history_numeric['Description_PACK OF 72 RETROSPOT CAKE CASES'].std()"
   ]
  },
  {
   "cell_type": "code",
   "execution_count": 714,
   "metadata": {},
   "outputs": [
    {
     "data": {
      "text/html": [
       "<div>\n",
       "<style scoped>\n",
       "    .dataframe tbody tr th:only-of-type {\n",
       "        vertical-align: middle;\n",
       "    }\n",
       "\n",
       "    .dataframe tbody tr th {\n",
       "        vertical-align: top;\n",
       "    }\n",
       "\n",
       "    .dataframe thead th {\n",
       "        text-align: right;\n",
       "    }\n",
       "</style>\n",
       "<table border=\"1\" class=\"dataframe\">\n",
       "  <thead>\n",
       "    <tr style=\"text-align: right;\">\n",
       "      <th></th>\n",
       "      <th>Quantity</th>\n",
       "      <th>Price</th>\n",
       "      <th>TotalAmount</th>\n",
       "      <th>Description_ASSORTED COLOUR BIRD ORNAMENT</th>\n",
       "      <th>Description_CREAM HANGING HEART T-LIGHT HOLDER</th>\n",
       "      <th>Description_JUMBO BAG RED RETROSPOT</th>\n",
       "      <th>Description_LUNCH BAG  BLACK SKULL.</th>\n",
       "      <th>Description_LUNCH BAG RED RETROSPOT</th>\n",
       "      <th>Description_PARTY BUNTING</th>\n",
       "      <th>Description_POPCORN HOLDER</th>\n",
       "      <th>Description_REGENCY CAKESTAND 3 TIER</th>\n",
       "      <th>Description_SET OF 3 CAKE TINS PANTRY DESIGN</th>\n",
       "    </tr>\n",
       "  </thead>\n",
       "  <tbody>\n",
       "    <tr>\n",
       "      <th>0</th>\n",
       "      <td>6</td>\n",
       "      <td>2.55</td>\n",
       "      <td>15.30</td>\n",
       "      <td>0.0</td>\n",
       "      <td>1.0</td>\n",
       "      <td>0.0</td>\n",
       "      <td>0.0</td>\n",
       "      <td>0.0</td>\n",
       "      <td>0.0</td>\n",
       "      <td>0.0</td>\n",
       "      <td>0.0</td>\n",
       "      <td>0.0</td>\n",
       "    </tr>\n",
       "    <tr>\n",
       "      <th>1</th>\n",
       "      <td>32</td>\n",
       "      <td>1.69</td>\n",
       "      <td>54.08</td>\n",
       "      <td>1.0</td>\n",
       "      <td>0.0</td>\n",
       "      <td>0.0</td>\n",
       "      <td>0.0</td>\n",
       "      <td>0.0</td>\n",
       "      <td>0.0</td>\n",
       "      <td>0.0</td>\n",
       "      <td>0.0</td>\n",
       "      <td>0.0</td>\n",
       "    </tr>\n",
       "    <tr>\n",
       "      <th>2</th>\n",
       "      <td>6</td>\n",
       "      <td>2.55</td>\n",
       "      <td>15.30</td>\n",
       "      <td>0.0</td>\n",
       "      <td>1.0</td>\n",
       "      <td>0.0</td>\n",
       "      <td>0.0</td>\n",
       "      <td>0.0</td>\n",
       "      <td>0.0</td>\n",
       "      <td>0.0</td>\n",
       "      <td>0.0</td>\n",
       "      <td>0.0</td>\n",
       "    </tr>\n",
       "    <tr>\n",
       "      <th>3</th>\n",
       "      <td>6</td>\n",
       "      <td>2.55</td>\n",
       "      <td>15.30</td>\n",
       "      <td>0.0</td>\n",
       "      <td>1.0</td>\n",
       "      <td>0.0</td>\n",
       "      <td>0.0</td>\n",
       "      <td>0.0</td>\n",
       "      <td>0.0</td>\n",
       "      <td>0.0</td>\n",
       "      <td>0.0</td>\n",
       "      <td>0.0</td>\n",
       "    </tr>\n",
       "    <tr>\n",
       "      <th>4</th>\n",
       "      <td>10</td>\n",
       "      <td>1.65</td>\n",
       "      <td>16.50</td>\n",
       "      <td>0.0</td>\n",
       "      <td>0.0</td>\n",
       "      <td>0.0</td>\n",
       "      <td>0.0</td>\n",
       "      <td>1.0</td>\n",
       "      <td>0.0</td>\n",
       "      <td>0.0</td>\n",
       "      <td>0.0</td>\n",
       "      <td>0.0</td>\n",
       "    </tr>\n",
       "  </tbody>\n",
       "</table>\n",
       "</div>"
      ],
      "text/plain": [
       "   Quantity  Price  TotalAmount  Description_ASSORTED COLOUR BIRD ORNAMENT  \\\n",
       "0         6   2.55        15.30                                        0.0   \n",
       "1        32   1.69        54.08                                        1.0   \n",
       "2         6   2.55        15.30                                        0.0   \n",
       "3         6   2.55        15.30                                        0.0   \n",
       "4        10   1.65        16.50                                        0.0   \n",
       "\n",
       "   Description_CREAM HANGING HEART T-LIGHT HOLDER  \\\n",
       "0                                             1.0   \n",
       "1                                             0.0   \n",
       "2                                             1.0   \n",
       "3                                             1.0   \n",
       "4                                             0.0   \n",
       "\n",
       "   Description_JUMBO BAG RED RETROSPOT  Description_LUNCH BAG  BLACK SKULL.  \\\n",
       "0                                  0.0                                  0.0   \n",
       "1                                  0.0                                  0.0   \n",
       "2                                  0.0                                  0.0   \n",
       "3                                  0.0                                  0.0   \n",
       "4                                  0.0                                  0.0   \n",
       "\n",
       "   Description_LUNCH BAG RED RETROSPOT  Description_PARTY BUNTING  \\\n",
       "0                                  0.0                        0.0   \n",
       "1                                  0.0                        0.0   \n",
       "2                                  0.0                        0.0   \n",
       "3                                  0.0                        0.0   \n",
       "4                                  1.0                        0.0   \n",
       "\n",
       "   Description_POPCORN HOLDER  Description_REGENCY CAKESTAND 3 TIER  \\\n",
       "0                         0.0                                   0.0   \n",
       "1                         0.0                                   0.0   \n",
       "2                         0.0                                   0.0   \n",
       "3                         0.0                                   0.0   \n",
       "4                         0.0                                   0.0   \n",
       "\n",
       "   Description_SET OF 3 CAKE TINS PANTRY DESIGN   \n",
       "0                                            0.0  \n",
       "1                                            0.0  \n",
       "2                                            0.0  \n",
       "3                                            0.0  \n",
       "4                                            0.0  "
      ]
     },
     "execution_count": 714,
     "metadata": {},
     "output_type": "execute_result"
    }
   ],
   "source": [
    "# Drop the column(s) that have low standard deviation from the main dataset.\n",
    "\n",
    "online_history_numeric.drop(cols_to_drop,axis=1,inplace=True)\n",
    "#online_history_numeric_ml.drop(cols_to_drop_ml,axis=1,inplace=True)\n",
    "# Preview the first five rows of data.\n",
    "\n",
    "online_history_numeric.head()"
   ]
  },
  {
   "cell_type": "markdown",
   "metadata": {},
   "source": [
    "# Generate box plots for each numeric variable"
   ]
  },
  {
   "cell_type": "code",
   "execution_count": 715,
   "metadata": {},
   "outputs": [
    {
     "data": {
      "text/html": [
       "<div>\n",
       "<style scoped>\n",
       "    .dataframe tbody tr th:only-of-type {\n",
       "        vertical-align: middle;\n",
       "    }\n",
       "\n",
       "    .dataframe tbody tr th {\n",
       "        vertical-align: top;\n",
       "    }\n",
       "\n",
       "    .dataframe thead th {\n",
       "        text-align: right;\n",
       "    }\n",
       "</style>\n",
       "<table border=\"1\" class=\"dataframe\">\n",
       "  <thead>\n",
       "    <tr style=\"text-align: right;\">\n",
       "      <th></th>\n",
       "      <th>Quantity</th>\n",
       "      <th>Price</th>\n",
       "      <th>TotalAmount</th>\n",
       "      <th>Description_ASSORTED COLOUR BIRD ORNAMENT</th>\n",
       "      <th>Description_CREAM HANGING HEART T-LIGHT HOLDER</th>\n",
       "      <th>Description_JUMBO BAG RED RETROSPOT</th>\n",
       "      <th>Description_LUNCH BAG  BLACK SKULL.</th>\n",
       "      <th>Description_LUNCH BAG RED RETROSPOT</th>\n",
       "      <th>Description_PARTY BUNTING</th>\n",
       "      <th>Description_POPCORN HOLDER</th>\n",
       "      <th>Description_REGENCY CAKESTAND 3 TIER</th>\n",
       "      <th>Description_SET OF 3 CAKE TINS PANTRY DESIGN</th>\n",
       "    </tr>\n",
       "  </thead>\n",
       "  <tbody>\n",
       "    <tr>\n",
       "      <th>0</th>\n",
       "      <td>6</td>\n",
       "      <td>2.55</td>\n",
       "      <td>15.30</td>\n",
       "      <td>0.0</td>\n",
       "      <td>1.0</td>\n",
       "      <td>0.0</td>\n",
       "      <td>0.0</td>\n",
       "      <td>0.0</td>\n",
       "      <td>0.0</td>\n",
       "      <td>0.0</td>\n",
       "      <td>0.0</td>\n",
       "      <td>0.0</td>\n",
       "    </tr>\n",
       "    <tr>\n",
       "      <th>1</th>\n",
       "      <td>32</td>\n",
       "      <td>1.69</td>\n",
       "      <td>54.08</td>\n",
       "      <td>1.0</td>\n",
       "      <td>0.0</td>\n",
       "      <td>0.0</td>\n",
       "      <td>0.0</td>\n",
       "      <td>0.0</td>\n",
       "      <td>0.0</td>\n",
       "      <td>0.0</td>\n",
       "      <td>0.0</td>\n",
       "      <td>0.0</td>\n",
       "    </tr>\n",
       "    <tr>\n",
       "      <th>2</th>\n",
       "      <td>6</td>\n",
       "      <td>2.55</td>\n",
       "      <td>15.30</td>\n",
       "      <td>0.0</td>\n",
       "      <td>1.0</td>\n",
       "      <td>0.0</td>\n",
       "      <td>0.0</td>\n",
       "      <td>0.0</td>\n",
       "      <td>0.0</td>\n",
       "      <td>0.0</td>\n",
       "      <td>0.0</td>\n",
       "      <td>0.0</td>\n",
       "    </tr>\n",
       "    <tr>\n",
       "      <th>3</th>\n",
       "      <td>6</td>\n",
       "      <td>2.55</td>\n",
       "      <td>15.30</td>\n",
       "      <td>0.0</td>\n",
       "      <td>1.0</td>\n",
       "      <td>0.0</td>\n",
       "      <td>0.0</td>\n",
       "      <td>0.0</td>\n",
       "      <td>0.0</td>\n",
       "      <td>0.0</td>\n",
       "      <td>0.0</td>\n",
       "      <td>0.0</td>\n",
       "    </tr>\n",
       "    <tr>\n",
       "      <th>4</th>\n",
       "      <td>10</td>\n",
       "      <td>1.65</td>\n",
       "      <td>16.50</td>\n",
       "      <td>0.0</td>\n",
       "      <td>0.0</td>\n",
       "      <td>0.0</td>\n",
       "      <td>0.0</td>\n",
       "      <td>1.0</td>\n",
       "      <td>0.0</td>\n",
       "      <td>0.0</td>\n",
       "      <td>0.0</td>\n",
       "      <td>0.0</td>\n",
       "    </tr>\n",
       "  </tbody>\n",
       "</table>\n",
       "</div>"
      ],
      "text/plain": [
       "   Quantity  Price  TotalAmount  Description_ASSORTED COLOUR BIRD ORNAMENT  \\\n",
       "0         6   2.55        15.30                                        0.0   \n",
       "1        32   1.69        54.08                                        1.0   \n",
       "2         6   2.55        15.30                                        0.0   \n",
       "3         6   2.55        15.30                                        0.0   \n",
       "4        10   1.65        16.50                                        0.0   \n",
       "\n",
       "   Description_CREAM HANGING HEART T-LIGHT HOLDER  \\\n",
       "0                                             1.0   \n",
       "1                                             0.0   \n",
       "2                                             1.0   \n",
       "3                                             1.0   \n",
       "4                                             0.0   \n",
       "\n",
       "   Description_JUMBO BAG RED RETROSPOT  Description_LUNCH BAG  BLACK SKULL.  \\\n",
       "0                                  0.0                                  0.0   \n",
       "1                                  0.0                                  0.0   \n",
       "2                                  0.0                                  0.0   \n",
       "3                                  0.0                                  0.0   \n",
       "4                                  0.0                                  0.0   \n",
       "\n",
       "   Description_LUNCH BAG RED RETROSPOT  Description_PARTY BUNTING  \\\n",
       "0                                  0.0                        0.0   \n",
       "1                                  0.0                        0.0   \n",
       "2                                  0.0                        0.0   \n",
       "3                                  0.0                        0.0   \n",
       "4                                  1.0                        0.0   \n",
       "\n",
       "   Description_POPCORN HOLDER  Description_REGENCY CAKESTAND 3 TIER  \\\n",
       "0                         0.0                                   0.0   \n",
       "1                         0.0                                   0.0   \n",
       "2                         0.0                                   0.0   \n",
       "3                         0.0                                   0.0   \n",
       "4                         0.0                                   0.0   \n",
       "\n",
       "   Description_SET OF 3 CAKE TINS PANTRY DESIGN   \n",
       "0                                            0.0  \n",
       "1                                            0.0  \n",
       "2                                            0.0  \n",
       "3                                            0.0  \n",
       "4                                            0.0  "
      ]
     },
     "execution_count": 715,
     "metadata": {},
     "output_type": "execute_result"
    }
   ],
   "source": [
    "online_history_numeric.head()"
   ]
  },
  {
   "cell_type": "code",
   "execution_count": 716,
   "metadata": {},
   "outputs": [
    {
     "data": {
      "text/plain": [
       "<Axes: title={'center': 'Total Amount Distribution'}, xlabel='TotalAmount'>"
      ]
     },
     "execution_count": 716,
     "metadata": {},
     "output_type": "execute_result"
    },
    {
     "data": {
      "image/png": "[encoded data removed]",
      "text/plain": [
       "<Figure size 2000x2000 with 3 Axes>"
      ]
     },
     "metadata": {},
     "output_type": "display_data"
    }
   ],
   "source": [
    "# Draw box plots for each numeric variable.\n",
    "fig6,ax = plt.subplots(3,1,figsize=(20,20))\n",
    "fig6.suptitle(\"Distribution of Features when Outliers Kept\",fontweight=15,fontsize=20)\n",
    "ax[0].set_title(\"Quantity Distribution\",fontsize=15)\n",
    "ax[1].set_title(\"Price Distribution\",fontsize=15)\n",
    "ax[2].set_title(\"Total Amount Distribution\",fontsize=15)\n",
    "sns.boxplot(ax=ax[0],data=online_history_numeric,x=\"Quantity\")\n",
    "sns.boxplot(ax=ax[1],data=online_history_numeric,x=\"Price\")\n",
    "sns.boxplot(ax=ax[2],data=online_history_numeric,x=\"TotalAmount\")\n",
    "\n",
    "\n",
    "\n",
    "\n",
    "\n",
    "\n",
    "\n"
   ]
  },
  {
   "cell_type": "code",
   "execution_count": 717,
   "metadata": {},
   "outputs": [],
   "source": [
    "# fig6.savefig(\"../plots/boxplot_with_outliers\")"
   ]
  },
  {
   "cell_type": "markdown",
   "metadata": {},
   "source": [
    "# Identify and remove outliers"
   ]
  },
  {
   "cell_type": "code",
   "execution_count": 718,
   "metadata": {},
   "outputs": [],
   "source": [
    "# This function returns the lower and upper bounds of a numeric input variable.\n",
    "\n",
    "def calc_outliers(var):\n",
    "    q3 = np.percentile(var, 75) \n",
    "    q1 = np.percentile(var, 25)\n",
    "\n",
    "    iqr = q3 - q1\n",
    "\n",
    "    lb = q1 - 1.5 * iqr\n",
    "    ub = q3 + 1.5 * iqr\n",
    "\n",
    "    print('Lower bound:', round(lb, 2), '\\nUpper bound:', round(ub, 2))\n",
    "    \n",
    "    return lb, ub"
   ]
  },
  {
   "cell_type": "code",
   "execution_count": 719,
   "metadata": {},
   "outputs": [
    {
     "data": {
      "text/plain": [
       "(12435, 12)"
      ]
     },
     "execution_count": 719,
     "metadata": {},
     "output_type": "execute_result"
    }
   ],
   "source": [
    "# Identify the shape of the data before removing outliers.\n",
    "\n",
    "\n",
    "online_history_numeric.shape"
   ]
  },
  {
   "cell_type": "code",
   "execution_count": 720,
   "metadata": {},
   "outputs": [
    {
     "data": {
      "text/plain": [
       "Index(['Quantity', 'Price', 'TotalAmount'], dtype='object')"
      ]
     },
     "execution_count": 720,
     "metadata": {},
     "output_type": "execute_result"
    }
   ],
   "source": [
    "online_history_numeric.columns[:3]"
   ]
  },
  {
   "cell_type": "code",
   "execution_count": 721,
   "metadata": {},
   "outputs": [
    {
     "name": "stdout",
     "output_type": "stream",
     "text": [
      "Lower bound: -15.0 \n",
      "Upper bound: 33.0\n",
      "(11480, 12)\n",
      "Lower bound: -3.3 \n",
      "Upper bound: 9.9\n",
      "(10086, 12)\n",
      "Lower bound: -11.7 \n",
      "Upper bound: 40.3\n",
      "(9133, 12)\n"
     ]
    }
   ],
   "source": [
    "# Call the calc_outliers() function iteratively for each numeric variable.\n",
    "# For each variable:\n",
    "#     Remove the outliers that are higher than the upper bounds.\n",
    "#     Remove the variables that are lower than the lower bounds.\n",
    "# As you iterate through each variable, print the shape of the data after the outliers for that variable are removed.\n",
    "online_history_numeric_preprocessed = online_history_numeric.copy()\n",
    "for col in online_history_numeric_preprocessed.columns[:3]:\n",
    "    lb_ub = calc_outliers(online_history_numeric_preprocessed[col])\n",
    "    rows_to_drop = online_history_numeric_preprocessed[(online_history_numeric_preprocessed[col]<lb_ub[0])|(online_history_numeric_preprocessed[col]>lb_ub[1])]\n",
    "    online_history_numeric_preprocessed = online_history_numeric_preprocessed.drop(rows_to_drop.index)\n",
    "    print(online_history_numeric_preprocessed.shape)\n",
    "\n"
   ]
  },
  {
   "cell_type": "code",
   "execution_count": 722,
   "metadata": {},
   "outputs": [
    {
     "data": {
      "text/plain": [
       "<Axes: title={'center': 'Total Amount Distribution'}, xlabel='TotalAmount'>"
      ]
     },
     "execution_count": 722,
     "metadata": {},
     "output_type": "execute_result"
    },
    {
     "data": {
      "image/png": "[encoded data removed]",
      "text/plain": [
       "<Figure size 2000x2000 with 3 Axes>"
      ]
     },
     "metadata": {},
     "output_type": "display_data"
    }
   ],
   "source": [
    "fig7,ax = plt.subplots(3,1,figsize=(20,20))\n",
    "fig7.suptitle(\"Distribution of Features when Outliers Removed\",fontweight=15,fontsize=20)\n",
    "ax[0].set_title(\"Quantity Distribution\",fontsize=15)\n",
    "ax[1].set_title(\"Price Distribution\",fontsize=15)\n",
    "ax[2].set_title(\"Total Amount Distribution\",fontsize=15)\n",
    "sns.boxplot(ax=ax[0],data=online_history_numeric_preprocessed,x=\"Quantity\")\n",
    "sns.boxplot(ax=ax[1],data=online_history_numeric_preprocessed,x=\"Price\")\n",
    "sns.boxplot(ax=ax[2],data=online_history_numeric_preprocessed,x=\"TotalAmount\")"
   ]
  },
  {
   "cell_type": "code",
   "execution_count": 723,
   "metadata": {},
   "outputs": [],
   "source": [
    "#fig7.savefig(\"../plots/boxplot_without_outliers.png\")"
   ]
  },
  {
   "cell_type": "markdown",
   "metadata": {},
   "source": [
    "We don't remove outliers from dataset indexed by customerids or the sake of usage of other dataset customer_data.pickle"
   ]
  },
  {
   "cell_type": "code",
   "execution_count": 724,
   "metadata": {},
   "outputs": [],
   "source": [
    "# online_history_numeric_ml_preprocessed = online_history_numeric_ml.copy()\n",
    "# for col in online_history_numeric_ml_preprocessed.columns[:3]:\n",
    "#     lb_ub = calc_outliers(online_history_numeric_ml_preprocessed[col])\n",
    "#     rows_to_drop = online_history_numeric_ml_preprocessed[(online_history_numeric_ml_preprocessed[col]<lb_ub[0])|(online_history_numeric_ml_preprocessed[col]>lb_ub[1])]\n",
    "#     online_history_numeric_ml_preprocessed = online_history_numeric_ml_preprocessed.drop(rows_to_drop.index)\n",
    "#     print(online_history_numeric_ml_preprocessed.shape)"
   ]
  },
  {
   "cell_type": "code",
   "execution_count": 725,
   "metadata": {},
   "outputs": [],
   "source": [
    "# for a quick compare with customer_data in progress in another notebook\n",
    "# customerids = list(online_history_numeric_ml.index.unique())\n",
    "# text = \",\".join(customerids)\n",
    "# with open(\"../customers.txt\",'w') as file:\n",
    "#     file.write(text)"
   ]
  },
  {
   "cell_type": "markdown",
   "metadata": {},
   "source": [
    "# Save the final dataset as a pickle file"
   ]
  },
  {
   "cell_type": "code",
   "execution_count": 726,
   "metadata": {},
   "outputs": [],
   "source": [
    "# Save the final dataset as a pickle file named online_history_cleaned_final.pickle.\n",
    "online_history_numeric_processed.to_pickle('../data/online_history_preprocessed.pickle')\n"
   ]
  },
  {
   "cell_type": "code",
   "execution_count": 727,
   "metadata": {},
   "outputs": [],
   "source": [
    "online_history_numeric_ml.to_pickle('../data/online_history_customer_indexed_preprocessed.pickle')"
   ]
  },
  {
   "cell_type": "code",
   "execution_count": null,
   "metadata": {},
   "outputs": [],
   "source": []
  }
 ],
 "metadata": {
  "kernelspec": {
   "display_name": "Python 3 (ipykernel)",
   "language": "python",
   "name": "python3"
  },
  "language_info": {
   "codemirror_mode": {
    "name": "ipython",
    "version": 3
   },
   "file_extension": ".py",
   "mimetype": "text/x-python",
   "name": "python",
   "nbconvert_exporter": "python",
   "pygments_lexer": "ipython3",
   "version": "3.11.7"
  }
 },
 "nbformat": 4,
 "nbformat_minor": 4
}
